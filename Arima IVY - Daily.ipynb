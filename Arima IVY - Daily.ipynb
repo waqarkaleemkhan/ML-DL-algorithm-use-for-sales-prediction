{
 "cells": [
  {
   "cell_type": "code",
   "execution_count": 1,
   "metadata": {},
   "outputs": [],
   "source": [
    "import warnings\n",
    "import itertools\n",
    "import numpy as np\n",
    "import matplotlib.pyplot as plt\n",
    "warnings.filterwarnings(\"ignore\")\n",
    "plt.style.use('fivethirtyeight')\n",
    "import pandas as pd\n",
    "import statsmodels.api as sm\n",
    "import matplotlib\n",
    "matplotlib.rcParams['axes.labelsize'] = 14\n",
    "matplotlib.rcParams['xtick.labelsize'] = 12\n",
    "matplotlib.rcParams['ytick.labelsize'] = 12\n",
    "matplotlib.rcParams['text.color'] = 'k'\n",
    "import chart_studio.plotly as py\n",
    "import plotly.offline as pyoff\n",
    "import plotly.graph_objs as go\n",
    "from sklearn.metrics import classification_report,confusion_matrix, accuracy_score\n",
    "import sklearn"
   ]
  },
  {
   "cell_type": "code",
   "execution_count": 2,
   "metadata": {},
   "outputs": [
    {
     "data": {
      "text/html": [
       "<div>\n",
       "<style scoped>\n",
       "    .dataframe tbody tr th:only-of-type {\n",
       "        vertical-align: middle;\n",
       "    }\n",
       "\n",
       "    .dataframe tbody tr th {\n",
       "        vertical-align: top;\n",
       "    }\n",
       "\n",
       "    .dataframe thead th {\n",
       "        text-align: right;\n",
       "    }\n",
       "</style>\n",
       "<table border=\"1\" class=\"dataframe\">\n",
       "  <thead>\n",
       "    <tr style=\"text-align: right;\">\n",
       "      <th></th>\n",
       "      <th>S.No</th>\n",
       "      <th>Order No.</th>\n",
       "      <th>date</th>\n",
       "      <th>Company</th>\n",
       "      <th>Cuid</th>\n",
       "      <th>Customer</th>\n",
       "      <th>Employee</th>\n",
       "      <th>sales</th>\n",
       "      <th>Discount</th>\n",
       "      <th>Total</th>\n",
       "      <th>Order Type</th>\n",
       "      <th>View</th>\n",
       "      <th>Month</th>\n",
       "    </tr>\n",
       "  </thead>\n",
       "  <tbody>\n",
       "    <tr>\n",
       "      <td>0</td>\n",
       "      <td>8179</td>\n",
       "      <td>115047</td>\n",
       "      <td>2019-01-01 10:06:35</td>\n",
       "      <td>Treet</td>\n",
       "      <td>6014</td>\n",
       "      <td>Hafeez Gen Store</td>\n",
       "      <td>Asad Bokhari</td>\n",
       "      <td>406.0008</td>\n",
       "      <td>0</td>\n",
       "      <td>406.0008</td>\n",
       "      <td>DELIVERED</td>\n",
       "      <td>View</td>\n",
       "      <td>Jan</td>\n",
       "    </tr>\n",
       "    <tr>\n",
       "      <td>1</td>\n",
       "      <td>6688</td>\n",
       "      <td>115653</td>\n",
       "      <td>2019-01-01 10:25:15</td>\n",
       "      <td>Treet</td>\n",
       "      <td>5680</td>\n",
       "      <td>Javaid Pan Shop</td>\n",
       "      <td>Mohd. Umer</td>\n",
       "      <td>826.9992</td>\n",
       "      <td>0</td>\n",
       "      <td>826.9992</td>\n",
       "      <td>DELIVERED</td>\n",
       "      <td>View</td>\n",
       "      <td>Jan</td>\n",
       "    </tr>\n",
       "    <tr>\n",
       "      <td>2</td>\n",
       "      <td>1412</td>\n",
       "      <td>115529</td>\n",
       "      <td>2019-01-01 10:25:54</td>\n",
       "      <td>Treet</td>\n",
       "      <td>4628</td>\n",
       "      <td>M.A Karyana @ Nishat Colony</td>\n",
       "      <td>Asif Mannan</td>\n",
       "      <td>52.7082</td>\n",
       "      <td>0 0</td>\n",
       "      <td>52.7082</td>\n",
       "      <td>DELIVERED</td>\n",
       "      <td>View</td>\n",
       "      <td>Jan</td>\n",
       "    </tr>\n",
       "    <tr>\n",
       "      <td>3</td>\n",
       "      <td>1413</td>\n",
       "      <td>115530</td>\n",
       "      <td>2019-01-01 10:26:23</td>\n",
       "      <td>Treet</td>\n",
       "      <td>4629</td>\n",
       "      <td>Subhan Store @ Nishat Colony</td>\n",
       "      <td>Asif Mannan</td>\n",
       "      <td>101.5002</td>\n",
       "      <td>0 0</td>\n",
       "      <td>101.5002</td>\n",
       "      <td>DELIVERED</td>\n",
       "      <td>View</td>\n",
       "      <td>Jan</td>\n",
       "    </tr>\n",
       "    <tr>\n",
       "      <td>4</td>\n",
       "      <td>1414</td>\n",
       "      <td>115531</td>\n",
       "      <td>2019-01-01 10:26:41</td>\n",
       "      <td>Treet</td>\n",
       "      <td>4626</td>\n",
       "      <td>Hafiz cold corner</td>\n",
       "      <td>Asif Mannan</td>\n",
       "      <td>203.0004</td>\n",
       "      <td>0 0</td>\n",
       "      <td>203.0004</td>\n",
       "      <td>DELIVERED</td>\n",
       "      <td>View</td>\n",
       "      <td>Jan</td>\n",
       "    </tr>\n",
       "  </tbody>\n",
       "</table>\n",
       "</div>"
      ],
      "text/plain": [
       "   S.No  Order No.                date Company  Cuid  \\\n",
       "0  8179     115047 2019-01-01 10:06:35   Treet  6014   \n",
       "1  6688     115653 2019-01-01 10:25:15   Treet  5680   \n",
       "2  1412     115529 2019-01-01 10:25:54   Treet  4628   \n",
       "3  1413     115530 2019-01-01 10:26:23   Treet  4629   \n",
       "4  1414     115531 2019-01-01 10:26:41   Treet  4626   \n",
       "\n",
       "                       Customer      Employee     sales Discount     Total  \\\n",
       "0              Hafeez Gen Store  Asad Bokhari  406.0008        0  406.0008   \n",
       "1               Javaid Pan Shop    Mohd. Umer  826.9992        0  826.9992   \n",
       "2   M.A Karyana @ Nishat Colony   Asif Mannan   52.7082      0 0   52.7082   \n",
       "3  Subhan Store @ Nishat Colony   Asif Mannan  101.5002      0 0  101.5002   \n",
       "4             Hafiz cold corner   Asif Mannan  203.0004      0 0  203.0004   \n",
       "\n",
       "  Order Type  View Month  \n",
       "0  DELIVERED  View   Jan  \n",
       "1  DELIVERED  View   Jan  \n",
       "2  DELIVERED  View   Jan  \n",
       "3  DELIVERED  View   Jan  \n",
       "4  DELIVERED  View   Jan  "
      ]
     },
     "execution_count": 2,
     "metadata": {},
     "output_type": "execute_result"
    }
   ],
   "source": [
    "df_sales = pd.read_excel('IVY DATA Normalized.xlsx',encoding='latin1')\n",
    "df_sales.head()"
   ]
  },
  {
   "cell_type": "code",
   "execution_count": 3,
   "metadata": {},
   "outputs": [],
   "source": [
    "df_sales['date'] = pd.to_datetime(df_sales['date'])\n",
    "df_sales.set_index('date', inplace=True)\n"
   ]
  },
  {
   "cell_type": "code",
   "execution_count": 4,
   "metadata": {},
   "outputs": [],
   "source": [
    "df_sales.drop(['Cuid','S.No','Order No.','Total'],axis=1,inplace=True)"
   ]
  },
  {
   "cell_type": "code",
   "execution_count": 5,
   "metadata": {},
   "outputs": [
    {
     "name": "stdout",
     "output_type": "stream",
     "text": [
      "<class 'pandas.core.frame.DataFrame'>\n",
      "DatetimeIndex: 114594 entries, 2019-01-01 10:06:35 to 2019-12-31 20:01:57\n",
      "Data columns (total 8 columns):\n",
      "Company       114594 non-null object\n",
      "Customer      114594 non-null object\n",
      "Employee      114594 non-null object\n",
      "sales         114594 non-null float64\n",
      "Discount      114594 non-null object\n",
      "Order Type    114594 non-null object\n",
      "View          114594 non-null object\n",
      "Month         114594 non-null object\n",
      "dtypes: float64(1), object(7)\n",
      "memory usage: 7.9+ MB\n"
     ]
    }
   ],
   "source": [
    "df_sales.info()"
   ]
  },
  {
   "cell_type": "code",
   "execution_count": 6,
   "metadata": {},
   "outputs": [],
   "source": [
    "#represent month in date field as its first day\n",
    "\n",
    "\n",
    "\n",
    "#groupby date and sum the sales\n",
    "ddf=df_sales.resample('D').sum()\n",
    "#df_sales = df_sales.groupby('date').sales.sum().reset_index()"
   ]
  },
  {
   "cell_type": "code",
   "execution_count": 7,
   "metadata": {},
   "outputs": [
    {
     "data": {
      "text/html": [
       "<div>\n",
       "<style scoped>\n",
       "    .dataframe tbody tr th:only-of-type {\n",
       "        vertical-align: middle;\n",
       "    }\n",
       "\n",
       "    .dataframe tbody tr th {\n",
       "        vertical-align: top;\n",
       "    }\n",
       "\n",
       "    .dataframe thead th {\n",
       "        text-align: right;\n",
       "    }\n",
       "</style>\n",
       "<table border=\"1\" class=\"dataframe\">\n",
       "  <thead>\n",
       "    <tr style=\"text-align: right;\">\n",
       "      <th></th>\n",
       "      <th>sales</th>\n",
       "    </tr>\n",
       "    <tr>\n",
       "      <th>date</th>\n",
       "      <th></th>\n",
       "    </tr>\n",
       "  </thead>\n",
       "  <tbody>\n",
       "    <tr>\n",
       "      <td>2019-01-01</td>\n",
       "      <td>3.294529e+05</td>\n",
       "    </tr>\n",
       "    <tr>\n",
       "      <td>2019-01-02</td>\n",
       "      <td>3.364932e+05</td>\n",
       "    </tr>\n",
       "    <tr>\n",
       "      <td>2019-01-03</td>\n",
       "      <td>4.056750e+05</td>\n",
       "    </tr>\n",
       "    <tr>\n",
       "      <td>2019-01-04</td>\n",
       "      <td>3.263562e+05</td>\n",
       "    </tr>\n",
       "    <tr>\n",
       "      <td>2019-01-05</td>\n",
       "      <td>3.307377e+05</td>\n",
       "    </tr>\n",
       "    <tr>\n",
       "      <td>2019-01-06</td>\n",
       "      <td>5.659497e+05</td>\n",
       "    </tr>\n",
       "    <tr>\n",
       "      <td>2019-01-07</td>\n",
       "      <td>4.340119e+05</td>\n",
       "    </tr>\n",
       "    <tr>\n",
       "      <td>2019-01-08</td>\n",
       "      <td>3.595576e+05</td>\n",
       "    </tr>\n",
       "    <tr>\n",
       "      <td>2019-01-09</td>\n",
       "      <td>9.196317e+05</td>\n",
       "    </tr>\n",
       "    <tr>\n",
       "      <td>2019-01-10</td>\n",
       "      <td>1.972370e+06</td>\n",
       "    </tr>\n",
       "    <tr>\n",
       "      <td>2019-01-11</td>\n",
       "      <td>4.834398e+05</td>\n",
       "    </tr>\n",
       "    <tr>\n",
       "      <td>2019-01-12</td>\n",
       "      <td>5.292537e+05</td>\n",
       "    </tr>\n",
       "    <tr>\n",
       "      <td>2019-01-13</td>\n",
       "      <td>6.572795e+05</td>\n",
       "    </tr>\n",
       "    <tr>\n",
       "      <td>2019-01-14</td>\n",
       "      <td>5.902849e+05</td>\n",
       "    </tr>\n",
       "    <tr>\n",
       "      <td>2019-01-15</td>\n",
       "      <td>4.368139e+05</td>\n",
       "    </tr>\n",
       "    <tr>\n",
       "      <td>2019-01-16</td>\n",
       "      <td>6.277891e+05</td>\n",
       "    </tr>\n",
       "    <tr>\n",
       "      <td>2019-01-17</td>\n",
       "      <td>4.850211e+05</td>\n",
       "    </tr>\n",
       "    <tr>\n",
       "      <td>2019-01-18</td>\n",
       "      <td>4.289968e+05</td>\n",
       "    </tr>\n",
       "    <tr>\n",
       "      <td>2019-01-19</td>\n",
       "      <td>6.249382e+06</td>\n",
       "    </tr>\n",
       "    <tr>\n",
       "      <td>2019-01-20</td>\n",
       "      <td>0.000000e+00</td>\n",
       "    </tr>\n",
       "    <tr>\n",
       "      <td>2019-01-21</td>\n",
       "      <td>4.654058e+05</td>\n",
       "    </tr>\n",
       "    <tr>\n",
       "      <td>2019-01-22</td>\n",
       "      <td>4.901676e+05</td>\n",
       "    </tr>\n",
       "    <tr>\n",
       "      <td>2019-01-23</td>\n",
       "      <td>3.004366e+05</td>\n",
       "    </tr>\n",
       "    <tr>\n",
       "      <td>2019-01-24</td>\n",
       "      <td>2.460530e+06</td>\n",
       "    </tr>\n",
       "    <tr>\n",
       "      <td>2019-01-25</td>\n",
       "      <td>4.000308e+05</td>\n",
       "    </tr>\n",
       "    <tr>\n",
       "      <td>2019-01-26</td>\n",
       "      <td>2.351680e+06</td>\n",
       "    </tr>\n",
       "    <tr>\n",
       "      <td>2019-01-27</td>\n",
       "      <td>0.000000e+00</td>\n",
       "    </tr>\n",
       "    <tr>\n",
       "      <td>2019-01-28</td>\n",
       "      <td>2.578163e+06</td>\n",
       "    </tr>\n",
       "    <tr>\n",
       "      <td>2019-01-29</td>\n",
       "      <td>3.194345e+06</td>\n",
       "    </tr>\n",
       "    <tr>\n",
       "      <td>2019-01-30</td>\n",
       "      <td>6.201910e+05</td>\n",
       "    </tr>\n",
       "    <tr>\n",
       "      <td>2019-01-31</td>\n",
       "      <td>2.935126e+06</td>\n",
       "    </tr>\n",
       "    <tr>\n",
       "      <td>2019-02-01</td>\n",
       "      <td>4.762440e+05</td>\n",
       "    </tr>\n",
       "    <tr>\n",
       "      <td>2019-02-02</td>\n",
       "      <td>3.550771e+05</td>\n",
       "    </tr>\n",
       "    <tr>\n",
       "      <td>2019-02-03</td>\n",
       "      <td>0.000000e+00</td>\n",
       "    </tr>\n",
       "    <tr>\n",
       "      <td>2019-02-04</td>\n",
       "      <td>5.373287e+05</td>\n",
       "    </tr>\n",
       "    <tr>\n",
       "      <td>2019-02-05</td>\n",
       "      <td>4.210819e+05</td>\n",
       "    </tr>\n",
       "    <tr>\n",
       "      <td>2019-02-06</td>\n",
       "      <td>1.531431e+06</td>\n",
       "    </tr>\n",
       "    <tr>\n",
       "      <td>2019-02-07</td>\n",
       "      <td>5.712979e+05</td>\n",
       "    </tr>\n",
       "    <tr>\n",
       "      <td>2019-02-08</td>\n",
       "      <td>4.591887e+05</td>\n",
       "    </tr>\n",
       "    <tr>\n",
       "      <td>2019-02-09</td>\n",
       "      <td>2.927721e+06</td>\n",
       "    </tr>\n",
       "    <tr>\n",
       "      <td>2019-02-10</td>\n",
       "      <td>0.000000e+00</td>\n",
       "    </tr>\n",
       "    <tr>\n",
       "      <td>2019-02-11</td>\n",
       "      <td>3.534688e+06</td>\n",
       "    </tr>\n",
       "    <tr>\n",
       "      <td>2019-02-12</td>\n",
       "      <td>3.726135e+06</td>\n",
       "    </tr>\n",
       "    <tr>\n",
       "      <td>2019-02-13</td>\n",
       "      <td>2.552729e+06</td>\n",
       "    </tr>\n",
       "    <tr>\n",
       "      <td>2019-02-14</td>\n",
       "      <td>4.527354e+05</td>\n",
       "    </tr>\n",
       "    <tr>\n",
       "      <td>2019-02-15</td>\n",
       "      <td>4.640845e+05</td>\n",
       "    </tr>\n",
       "    <tr>\n",
       "      <td>2019-02-16</td>\n",
       "      <td>2.023896e+06</td>\n",
       "    </tr>\n",
       "    <tr>\n",
       "      <td>2019-02-17</td>\n",
       "      <td>0.000000e+00</td>\n",
       "    </tr>\n",
       "    <tr>\n",
       "      <td>2019-02-18</td>\n",
       "      <td>9.344565e+05</td>\n",
       "    </tr>\n",
       "    <tr>\n",
       "      <td>2019-02-19</td>\n",
       "      <td>4.498598e+06</td>\n",
       "    </tr>\n",
       "  </tbody>\n",
       "</table>\n",
       "</div>"
      ],
      "text/plain": [
       "                   sales\n",
       "date                    \n",
       "2019-01-01  3.294529e+05\n",
       "2019-01-02  3.364932e+05\n",
       "2019-01-03  4.056750e+05\n",
       "2019-01-04  3.263562e+05\n",
       "2019-01-05  3.307377e+05\n",
       "2019-01-06  5.659497e+05\n",
       "2019-01-07  4.340119e+05\n",
       "2019-01-08  3.595576e+05\n",
       "2019-01-09  9.196317e+05\n",
       "2019-01-10  1.972370e+06\n",
       "2019-01-11  4.834398e+05\n",
       "2019-01-12  5.292537e+05\n",
       "2019-01-13  6.572795e+05\n",
       "2019-01-14  5.902849e+05\n",
       "2019-01-15  4.368139e+05\n",
       "2019-01-16  6.277891e+05\n",
       "2019-01-17  4.850211e+05\n",
       "2019-01-18  4.289968e+05\n",
       "2019-01-19  6.249382e+06\n",
       "2019-01-20  0.000000e+00\n",
       "2019-01-21  4.654058e+05\n",
       "2019-01-22  4.901676e+05\n",
       "2019-01-23  3.004366e+05\n",
       "2019-01-24  2.460530e+06\n",
       "2019-01-25  4.000308e+05\n",
       "2019-01-26  2.351680e+06\n",
       "2019-01-27  0.000000e+00\n",
       "2019-01-28  2.578163e+06\n",
       "2019-01-29  3.194345e+06\n",
       "2019-01-30  6.201910e+05\n",
       "2019-01-31  2.935126e+06\n",
       "2019-02-01  4.762440e+05\n",
       "2019-02-02  3.550771e+05\n",
       "2019-02-03  0.000000e+00\n",
       "2019-02-04  5.373287e+05\n",
       "2019-02-05  4.210819e+05\n",
       "2019-02-06  1.531431e+06\n",
       "2019-02-07  5.712979e+05\n",
       "2019-02-08  4.591887e+05\n",
       "2019-02-09  2.927721e+06\n",
       "2019-02-10  0.000000e+00\n",
       "2019-02-11  3.534688e+06\n",
       "2019-02-12  3.726135e+06\n",
       "2019-02-13  2.552729e+06\n",
       "2019-02-14  4.527354e+05\n",
       "2019-02-15  4.640845e+05\n",
       "2019-02-16  2.023896e+06\n",
       "2019-02-17  0.000000e+00\n",
       "2019-02-18  9.344565e+05\n",
       "2019-02-19  4.498598e+06"
      ]
     },
     "execution_count": 7,
     "metadata": {},
     "output_type": "execute_result"
    }
   ],
   "source": [
    "ddf.head(50)"
   ]
  },
  {
   "cell_type": "code",
   "execution_count": 8,
   "metadata": {},
   "outputs": [
    {
     "data": {
      "text/html": [
       "<div>\n",
       "<style scoped>\n",
       "    .dataframe tbody tr th:only-of-type {\n",
       "        vertical-align: middle;\n",
       "    }\n",
       "\n",
       "    .dataframe tbody tr th {\n",
       "        vertical-align: top;\n",
       "    }\n",
       "\n",
       "    .dataframe thead th {\n",
       "        text-align: right;\n",
       "    }\n",
       "</style>\n",
       "<table border=\"1\" class=\"dataframe\">\n",
       "  <thead>\n",
       "    <tr style=\"text-align: right;\">\n",
       "      <th></th>\n",
       "      <th>sales</th>\n",
       "    </tr>\n",
       "    <tr>\n",
       "      <th>date</th>\n",
       "      <th></th>\n",
       "    </tr>\n",
       "  </thead>\n",
       "  <tbody>\n",
       "    <tr>\n",
       "      <td>2019-01-01</td>\n",
       "      <td>3.294529e+05</td>\n",
       "    </tr>\n",
       "    <tr>\n",
       "      <td>2019-01-02</td>\n",
       "      <td>3.364932e+05</td>\n",
       "    </tr>\n",
       "    <tr>\n",
       "      <td>2019-01-03</td>\n",
       "      <td>4.056750e+05</td>\n",
       "    </tr>\n",
       "    <tr>\n",
       "      <td>2019-01-04</td>\n",
       "      <td>3.263562e+05</td>\n",
       "    </tr>\n",
       "    <tr>\n",
       "      <td>2019-01-05</td>\n",
       "      <td>3.307377e+05</td>\n",
       "    </tr>\n",
       "    <tr>\n",
       "      <td>...</td>\n",
       "      <td>...</td>\n",
       "    </tr>\n",
       "    <tr>\n",
       "      <td>2019-07-15</td>\n",
       "      <td>3.918355e+05</td>\n",
       "    </tr>\n",
       "    <tr>\n",
       "      <td>2019-07-16</td>\n",
       "      <td>1.555098e+06</td>\n",
       "    </tr>\n",
       "    <tr>\n",
       "      <td>2019-07-17</td>\n",
       "      <td>9.905381e+05</td>\n",
       "    </tr>\n",
       "    <tr>\n",
       "      <td>2019-07-18</td>\n",
       "      <td>1.873120e+06</td>\n",
       "    </tr>\n",
       "    <tr>\n",
       "      <td>2019-07-19</td>\n",
       "      <td>3.347653e+06</td>\n",
       "    </tr>\n",
       "  </tbody>\n",
       "</table>\n",
       "<p>200 rows × 1 columns</p>\n",
       "</div>"
      ],
      "text/plain": [
       "                   sales\n",
       "date                    \n",
       "2019-01-01  3.294529e+05\n",
       "2019-01-02  3.364932e+05\n",
       "2019-01-03  4.056750e+05\n",
       "2019-01-04  3.263562e+05\n",
       "2019-01-05  3.307377e+05\n",
       "...                  ...\n",
       "2019-07-15  3.918355e+05\n",
       "2019-07-16  1.555098e+06\n",
       "2019-07-17  9.905381e+05\n",
       "2019-07-18  1.873120e+06\n",
       "2019-07-19  3.347653e+06\n",
       "\n",
       "[200 rows x 1 columns]"
      ]
     },
     "execution_count": 8,
     "metadata": {},
     "output_type": "execute_result"
    }
   ],
   "source": [
    "ddf.head(200)"
   ]
  },
  {
   "cell_type": "code",
   "execution_count": 9,
   "metadata": {},
   "outputs": [],
   "source": [
    "#df_sales = df_sales.set_index('date')\n",
    "#df_sales.index"
   ]
  },
  {
   "cell_type": "code",
   "execution_count": 10,
   "metadata": {},
   "outputs": [],
   "source": [
    "# d = ddf['sales'].resample('W').sum()\n"
   ]
  },
  {
   "cell_type": "code",
   "execution_count": 11,
   "metadata": {},
   "outputs": [],
   "source": [
    "# y['2019':]"
   ]
  },
  {
   "cell_type": "code",
   "execution_count": 12,
   "metadata": {},
   "outputs": [
    {
     "data": {
      "image/png": "[encoded data removed]",
      "text/plain": [
       "<Figure size 1080x432 with 1 Axes>"
      ]
     },
     "metadata": {
      "needs_background": "light"
     },
     "output_type": "display_data"
    }
   ],
   "source": [
    "ddf.plot(figsize=(15, 6))\n",
    "plt.show()\n",
    "# Graph wrt 10 Million"
   ]
  },
  {
   "cell_type": "code",
   "execution_count": 13,
   "metadata": {},
   "outputs": [],
   "source": [
    "# from pylab import rcParams\n",
    "# rcParams['figure.figsize'] = 18, 8\n",
    "# decomposition = sm.tsa.seasonal_decompose(y, model='additive')\n",
    "# fig = decomposition.plot()\n",
    "# plt.show()"
   ]
  },
  {
   "cell_type": "code",
   "execution_count": 37,
   "metadata": {},
   "outputs": [
    {
     "name": "stdout",
     "output_type": "stream",
     "text": [
      "Examples of parameter combinations for Seasonal ARIMA...\n",
      "SARIMAX: (0, 0, 1) x (0, 0, 1, 12)\n",
      "SARIMAX: (0, 0, 1) x (0, 0, 2, 12)\n",
      "SARIMAX: (0, 0, 2) x (0, 1, 0, 12)\n",
      "SARIMAX: (0, 0, 2) x (0, 1, 1, 12)\n"
     ]
    }
   ],
   "source": [
    "p = d = q = range(0, 3)\n",
    "pdq = list(itertools.product(p, d, q))\n",
    "seasonal_pdq = [(x[0], x[1], x[2], 12) for x in list(itertools.product(p, d, q))]\n",
    "print('Examples of parameter combinations for Seasonal ARIMA...')\n",
    "print('SARIMAX: {} x {}'.format(pdq[1], seasonal_pdq[1]))\n",
    "print('SARIMAX: {} x {}'.format(pdq[1], seasonal_pdq[2]))\n",
    "print('SARIMAX: {} x {}'.format(pdq[2], seasonal_pdq[3]))\n",
    "print('SARIMAX: {} x {}'.format(pdq[2], seasonal_pdq[4]))"
   ]
  },
  {
   "cell_type": "code",
   "execution_count": 38,
   "metadata": {},
   "outputs": [
    {
     "name": "stdout",
     "output_type": "stream",
     "text": [
      "ARIMA(0, 0, 0)x(0, 0, 0, 12)12 - AIC:11707.812023036717\n",
      "ARIMA(0, 0, 0)x(0, 0, 1, 12)12 - AIC:11285.824342316406\n",
      "ARIMA(0, 0, 0)x(0, 0, 2, 12)12 - AIC:10894.671853551885\n",
      "ARIMA(0, 0, 0)x(0, 1, 0, 12)12 - AIC:11362.151861321874\n",
      "ARIMA(0, 0, 0)x(0, 1, 1, 12)12 - AIC:10809.350609608446\n",
      "ARIMA(0, 0, 0)x(0, 1, 2, 12)12 - AIC:10436.338231710048\n",
      "ARIMA(0, 0, 0)x(0, 2, 0, 12)12 - AIC:11347.565840417468\n",
      "ARIMA(0, 0, 0)x(0, 2, 1, 12)12 - AIC:10627.606065899396\n",
      "ARIMA(0, 0, 0)x(0, 2, 2, 12)12 - AIC:10199.727702068207\n",
      "ARIMA(0, 0, 0)x(1, 0, 0, 12)12 - AIC:11284.285904490473\n",
      "ARIMA(0, 0, 0)x(1, 0, 1, 12)12 - AIC:11179.909273637366\n",
      "ARIMA(0, 0, 0)x(1, 0, 2, 12)12 - AIC:10802.622518058233\n",
      "ARIMA(0, 0, 0)x(1, 1, 0, 12)12 - AIC:10929.086485031658\n",
      "ARIMA(0, 0, 0)x(1, 1, 1, 12)12 - AIC:10809.514173762465\n",
      "ARIMA(0, 0, 0)x(1, 1, 2, 12)12 - AIC:10425.416168969383\n",
      "ARIMA(0, 0, 0)x(1, 2, 0, 12)12 - AIC:10817.47153715116\n",
      "ARIMA(0, 0, 0)x(1, 2, 1, 12)12 - AIC:10564.509487369342\n",
      "ARIMA(0, 0, 0)x(1, 2, 2, 12)12 - AIC:10140.15937319757\n",
      "ARIMA(0, 0, 0)x(2, 0, 0, 12)12 - AIC:10880.588800046753\n",
      "ARIMA(0, 0, 0)x(2, 0, 1, 12)12 - AIC:10831.09266697439\n",
      "ARIMA(0, 0, 0)x(2, 0, 2, 12)12 - AIC:10800.057755029766\n",
      "ARIMA(0, 0, 0)x(2, 1, 0, 12)12 - AIC:10506.15140124473\n",
      "ARIMA(0, 0, 0)x(2, 1, 1, 12)12 - AIC:10458.66588287071\n",
      "ARIMA(0, 0, 0)x(2, 1, 2, 12)12 - AIC:10425.610168533885\n",
      "ARIMA(0, 0, 0)x(2, 2, 0, 12)12 - AIC:10323.071428986019\n",
      "ARIMA(0, 0, 0)x(2, 2, 1, 12)12 - AIC:10171.127443106281\n",
      "ARIMA(0, 0, 0)x(2, 2, 2, 12)12 - AIC:10104.300315758865\n",
      "ARIMA(0, 0, 1)x(0, 0, 0, 12)12 - AIC:11613.54281096559\n",
      "ARIMA(0, 0, 1)x(0, 0, 1, 12)12 - AIC:11213.449230001028\n",
      "ARIMA(0, 0, 1)x(0, 0, 2, 12)12 - AIC:10826.180360918992\n",
      "ARIMA(0, 0, 1)x(0, 1, 0, 12)12 - AIC:11324.729962547912\n",
      "ARIMA(0, 0, 1)x(0, 1, 1, 12)12 - AIC:10799.276358953415\n",
      "ARIMA(0, 0, 1)x(0, 1, 2, 12)12 - AIC:10422.830647581486\n",
      "ARIMA(0, 0, 1)x(0, 2, 0, 12)12 - AIC:11305.283072565562\n",
      "ARIMA(0, 0, 1)x(0, 2, 1, 12)12 - AIC:10690.349690414252\n",
      "ARIMA(0, 0, 1)x(0, 2, 2, 12)12 - AIC:10261.036046205783\n",
      "ARIMA(0, 0, 1)x(1, 0, 0, 12)12 - AIC:11266.369211831348\n",
      "ARIMA(0, 0, 1)x(1, 0, 1, 12)12 - AIC:11162.929103670704\n",
      "ARIMA(0, 0, 1)x(1, 0, 2, 12)12 - AIC:10781.809560260652\n",
      "ARIMA(0, 0, 1)x(1, 1, 0, 12)12 - AIC:10935.597156023552\n",
      "ARIMA(0, 0, 1)x(1, 1, 1, 12)12 - AIC:10801.190681366747\n",
      "ARIMA(0, 0, 1)x(1, 1, 2, 12)12 - AIC:10423.411905379045\n",
      "ARIMA(0, 0, 1)x(1, 2, 0, 12)12 - AIC:10847.339922174295\n",
      "ARIMA(0, 0, 1)x(1, 2, 1, 12)12 - AIC:10671.15968499762\n",
      "ARIMA(0, 0, 1)x(1, 2, 2, 12)12 - AIC:10263.031235517607\n",
      "ARIMA(0, 0, 1)x(2, 0, 0, 12)12 - AIC:10876.857188099148\n",
      "ARIMA(0, 0, 1)x(2, 0, 1, 12)12 - AIC:10845.041854803054\n",
      "ARIMA(0, 0, 1)x(2, 0, 2, 12)12 - AIC:10782.19997308667\n",
      "ARIMA(0, 0, 1)x(2, 1, 0, 12)12 - AIC:10523.838882083961\n",
      "ARIMA(0, 0, 1)x(2, 1, 1, 12)12 - AIC:10486.520008648815\n",
      "ARIMA(0, 0, 1)x(2, 1, 2, 12)12 - AIC:10425.205782450781\n",
      "ARIMA(0, 0, 1)x(2, 2, 0, 12)12 - AIC:10402.468840110305\n",
      "ARIMA(0, 0, 1)x(2, 2, 1, 12)12 - AIC:10337.53165841769\n",
      "ARIMA(0, 0, 1)x(2, 2, 2, 12)12 - AIC:10264.243510672219\n",
      "ARIMA(0, 0, 2)x(0, 0, 0, 12)12 - AIC:11553.236942795289\n",
      "ARIMA(0, 0, 2)x(0, 0, 1, 12)12 - AIC:11168.365124213014\n",
      "ARIMA(0, 0, 2)x(0, 0, 2, 12)12 - AIC:10784.158890246488\n",
      "ARIMA(0, 0, 2)x(0, 1, 0, 12)12 - AIC:11295.107428273506\n",
      "ARIMA(0, 0, 2)x(0, 1, 1, 12)12 - AIC:10766.190273769662\n",
      "ARIMA(0, 0, 2)x(0, 1, 2, 12)12 - AIC:10390.131079616438\n",
      "ARIMA(0, 0, 2)x(0, 2, 0, 12)12 - AIC:11274.753990722873\n",
      "ARIMA(0, 0, 2)x(0, 2, 1, 12)12 - AIC:10658.515572193057\n",
      "ARIMA(0, 0, 2)x(0, 2, 2, 12)12 - AIC:10228.69244303567\n",
      "ARIMA(0, 0, 2)x(1, 0, 0, 12)12 - AIC:11257.884788232805\n",
      "ARIMA(0, 0, 2)x(1, 0, 1, 12)12 - AIC:11130.906204721794\n",
      "ARIMA(0, 0, 2)x(1, 0, 2, 12)12 - AIC:10750.073524836283\n",
      "ARIMA(0, 0, 2)x(1, 1, 0, 12)12 - AIC:10936.18922965987\n",
      "ARIMA(0, 0, 2)x(1, 1, 1, 12)12 - AIC:10768.157344804868\n",
      "ARIMA(0, 0, 2)x(1, 1, 2, 12)12 - AIC:10390.403027513072\n",
      "ARIMA(0, 0, 2)x(1, 2, 0, 12)12 - AIC:10848.33917962735\n",
      "ARIMA(0, 0, 2)x(1, 2, 1, 12)12 - AIC:10639.102801599838\n",
      "ARIMA(0, 0, 2)x(1, 2, 2, 12)12 - AIC:10230.682792539435\n",
      "ARIMA(0, 0, 2)x(2, 0, 0, 12)12 - AIC:10871.754200667838\n",
      "ARIMA(0, 0, 2)x(2, 0, 1, 12)12 - AIC:10844.247753852076\n",
      "ARIMA(0, 0, 2)x(2, 0, 2, 12)12 - AIC:10750.101910060257\n",
      "ARIMA(0, 0, 2)x(2, 1, 0, 12)12 - AIC:10523.68447378244\n",
      "ARIMA(0, 0, 2)x(2, 1, 1, 12)12 - AIC:10485.08122294313\n",
      "ARIMA(0, 0, 2)x(2, 1, 2, 12)12 - AIC:10392.055766599353\n",
      "ARIMA(0, 0, 2)x(2, 2, 0, 12)12 - AIC:10403.133960120467\n",
      "ARIMA(0, 0, 2)x(2, 2, 1, 12)12 - AIC:10337.659175915584\n",
      "ARIMA(0, 0, 2)x(2, 2, 2, 12)12 - AIC:10231.898123208553\n",
      "ARIMA(0, 1, 0)x(0, 0, 0, 12)12 - AIC:11664.54829175471\n",
      "ARIMA(0, 1, 0)x(0, 0, 1, 12)12 - AIC:11291.368622207847\n",
      "ARIMA(0, 1, 0)x(0, 0, 2, 12)12 - AIC:10899.46855370381\n",
      "ARIMA(0, 1, 0)x(0, 1, 0, 12)12 - AIC:11516.108617260696\n",
      "ARIMA(0, 1, 0)x(0, 1, 1, 12)12 - AIC:10937.486539676773\n",
      "ARIMA(0, 1, 0)x(0, 1, 2, 12)12 - AIC:10561.268022973345\n",
      "ARIMA(0, 1, 0)x(0, 2, 0, 12)12 - AIC:11482.979037518193\n",
      "ARIMA(0, 1, 0)x(0, 2, 1, 12)12 - AIC:10787.244099369656\n",
      "ARIMA(0, 1, 0)x(0, 2, 2, 12)12 - AIC:10370.955773022204\n",
      "ARIMA(0, 1, 0)x(1, 0, 0, 12)12 - AIC:11322.683891010816\n",
      "ARIMA(0, 1, 0)x(1, 0, 1, 12)12 - AIC:11289.837155569014\n",
      "ARIMA(0, 1, 0)x(1, 0, 2, 12)12 - AIC:10899.770049861214\n",
      "ARIMA(0, 1, 0)x(1, 1, 0, 12)12 - AIC:11092.38826833836\n",
      "ARIMA(0, 1, 0)x(1, 1, 1, 12)12 - AIC:10932.448676596223\n",
      "ARIMA(0, 1, 0)x(1, 1, 2, 12)12 - AIC:10541.691558786824\n",
      "ARIMA(0, 1, 0)x(1, 2, 0, 12)12 - AIC:10961.362599498098\n",
      "ARIMA(0, 1, 0)x(1, 2, 1, 12)12 - AIC:10723.437925140404\n",
      "ARIMA(0, 1, 0)x(1, 2, 2, 12)12 - AIC:10287.524109174228\n",
      "ARIMA(0, 1, 0)x(2, 0, 0, 12)12 - AIC:10930.725948620116\n",
      "ARIMA(0, 1, 0)x(2, 0, 1, 12)12 - AIC:10930.554818160206\n",
      "ARIMA(0, 1, 0)x(2, 0, 2, 12)12 - AIC:10893.313154224335\n",
      "ARIMA(0, 1, 0)x(2, 1, 0, 12)12 - AIC:10669.578106394882\n",
      "ARIMA(0, 1, 0)x(2, 1, 1, 12)12 - AIC:10571.913387583623\n",
      "ARIMA(0, 1, 0)x(2, 1, 2, 12)12 - AIC:10540.515403069665\n",
      "ARIMA(0, 1, 0)x(2, 2, 0, 12)12 - AIC:10479.253124543386\n",
      "ARIMA(0, 1, 0)x(2, 2, 1, 12)12 - AIC:10322.338044954555\n",
      "ARIMA(0, 1, 0)x(2, 2, 2, 12)12 - AIC:10248.578475976852\n",
      "ARIMA(0, 1, 1)x(0, 0, 0, 12)12 - AIC:11447.193972729601\n",
      "ARIMA(0, 1, 1)x(0, 0, 1, 12)12 - AIC:11078.866410459716\n",
      "ARIMA(0, 1, 1)x(0, 0, 2, 12)12 - AIC:10699.007250110644\n",
      "ARIMA(0, 1, 1)x(0, 1, 0, 12)12 - AIC:11307.561549764669\n",
      "ARIMA(0, 1, 1)x(0, 1, 1, 12)12 - AIC:10786.813580323162\n",
      "ARIMA(0, 1, 1)x(0, 1, 2, 12)12 - AIC:10409.408231637428\n",
      "ARIMA(0, 1, 1)x(0, 2, 0, 12)12 - AIC:11287.179664961\n",
      "ARIMA(0, 1, 1)x(0, 2, 1, 12)12 - AIC:10702.644299412656\n",
      "ARIMA(0, 1, 1)x(0, 2, 2, 12)12 - AIC:10274.147721159145\n",
      "ARIMA(0, 1, 1)x(1, 0, 0, 12)12 - AIC:11140.450329612868\n",
      "ARIMA(0, 1, 1)x(1, 0, 1, 12)12 - AIC:11077.484927900783\n",
      "ARIMA(0, 1, 1)x(1, 0, 2, 12)12 - AIC:10700.997720103664\n",
      "ARIMA(0, 1, 1)x(1, 1, 0, 12)12 - AIC:10926.117073055784\n",
      "ARIMA(0, 1, 1)x(1, 1, 1, 12)12 - AIC:10788.810554601409\n",
      "ARIMA(0, 1, 1)x(1, 1, 2, 12)12 - AIC:10409.259615196197\n",
      "ARIMA(0, 1, 1)x(1, 2, 0, 12)12 - AIC:10842.160453512824\n",
      "ARIMA(0, 1, 1)x(1, 2, 1, 12)12 - AIC:10685.130033539113\n",
      "ARIMA(0, 1, 1)x(1, 2, 2, 12)12 - AIC:10276.131409339567\n",
      "ARIMA(0, 1, 1)x(2, 0, 0, 12)12 - AIC:10761.74696208421\n",
      "ARIMA(0, 1, 1)x(2, 0, 1, 12)12 - AIC:10761.593771234722\n",
      "ARIMA(0, 1, 1)x(2, 0, 2, 12)12 - AIC:10700.741393292286\n",
      "ARIMA(0, 1, 1)x(2, 1, 0, 12)12 - AIC:10513.339831140604\n",
      "ARIMA(0, 1, 1)x(2, 1, 1, 12)12 - AIC:10473.737278573244\n",
      "ARIMA(0, 1, 1)x(2, 1, 2, 12)12 - AIC:10410.939472815826\n",
      "ARIMA(0, 1, 1)x(2, 2, 0, 12)12 - AIC:10401.773532198558\n",
      "ARIMA(0, 1, 1)x(2, 2, 1, 12)12 - AIC:10350.878968898596\n",
      "ARIMA(0, 1, 1)x(2, 2, 2, 12)12 - AIC:10277.576656138262\n",
      "ARIMA(0, 1, 2)x(0, 0, 0, 12)12 - AIC:11410.20890368072\n",
      "ARIMA(0, 1, 2)x(0, 0, 1, 12)12 - AIC:11042.758509770632\n",
      "ARIMA(0, 1, 2)x(0, 0, 2, 12)12 - AIC:10660.648890159948\n",
      "ARIMA(0, 1, 2)x(0, 1, 0, 12)12 - AIC:11268.73503994559\n",
      "ARIMA(0, 1, 2)x(0, 1, 1, 12)12 - AIC:10745.940751107506\n",
      "ARIMA(0, 1, 2)x(0, 1, 2, 12)12 - AIC:10368.918397057776\n",
      "ARIMA(0, 1, 2)x(0, 2, 0, 12)12 - AIC:11245.873812393664\n",
      "ARIMA(0, 1, 2)x(0, 2, 1, 12)12 - AIC:10666.164194985407\n",
      "ARIMA(0, 1, 2)x(0, 2, 2, 12)12 - AIC:10237.548510908282\n",
      "ARIMA(0, 1, 2)x(1, 0, 0, 12)12 - AIC:11134.897610385928\n",
      "ARIMA(0, 1, 2)x(1, 0, 1, 12)12 - AIC:11041.029447870396\n",
      "ARIMA(0, 1, 2)x(1, 0, 2, 12)12 - AIC:10660.820604479006\n"
     ]
    },
    {
     "name": "stdout",
     "output_type": "stream",
     "text": [
      "ARIMA(0, 1, 2)x(1, 1, 0, 12)12 - AIC:10915.570205569878\n",
      "ARIMA(0, 1, 2)x(1, 1, 1, 12)12 - AIC:10755.673314258125\n",
      "ARIMA(0, 1, 2)x(1, 1, 2, 12)12 - AIC:10368.40237916993\n",
      "ARIMA(0, 1, 2)x(1, 2, 0, 12)12 - AIC:10837.166209458857\n",
      "ARIMA(0, 1, 2)x(1, 2, 1, 12)12 - AIC:10648.696518338547\n",
      "ARIMA(0, 1, 2)x(1, 2, 2, 12)12 - AIC:10239.515982204222\n",
      "ARIMA(0, 1, 2)x(2, 0, 0, 12)12 - AIC:10755.41810304423\n",
      "ARIMA(0, 1, 2)x(2, 0, 1, 12)12 - AIC:10755.024871007063\n",
      "ARIMA(0, 1, 2)x(2, 0, 2, 12)12 - AIC:10662.227778752585\n",
      "ARIMA(0, 1, 2)x(2, 1, 0, 12)12 - AIC:10511.441934397073\n",
      "ARIMA(0, 1, 2)x(2, 1, 1, 12)12 - AIC:10464.808035913478\n",
      "ARIMA(0, 1, 2)x(2, 1, 2, 12)12 - AIC:10370.191718720069\n",
      "ARIMA(0, 1, 2)x(2, 2, 0, 12)12 - AIC:10398.56245737513\n",
      "ARIMA(0, 1, 2)x(2, 2, 1, 12)12 - AIC:10347.226540246524\n",
      "ARIMA(0, 1, 2)x(2, 2, 2, 12)12 - AIC:10240.97212880135\n",
      "ARIMA(0, 2, 0)x(0, 0, 0, 12)12 - AIC:12019.243636235686\n",
      "ARIMA(0, 2, 0)x(0, 0, 1, 12)12 - AIC:11632.549149851127\n",
      "ARIMA(0, 2, 0)x(0, 0, 2, 12)12 - AIC:11224.427734326036\n",
      "ARIMA(0, 2, 0)x(0, 1, 0, 12)12 - AIC:11851.760530164835\n",
      "ARIMA(0, 2, 0)x(0, 1, 1, 12)12 - AIC:11277.829178010608\n",
      "ARIMA(0, 2, 0)x(0, 1, 2, 12)12 - AIC:10890.123180373115\n",
      "ARIMA(0, 2, 0)x(0, 2, 0, 12)12 - AIC:11800.418713462484\n",
      "ARIMA(0, 2, 0)x(0, 2, 1, 12)12 - AIC:11140.031316848677\n",
      "ARIMA(0, 2, 0)x(0, 2, 2, 12)12 - AIC:10712.057482834316\n",
      "ARIMA(0, 2, 0)x(1, 0, 0, 12)12 - AIC:11665.162706050443\n",
      "ARIMA(0, 2, 0)x(1, 0, 1, 12)12 - AIC:11632.041405370353\n",
      "ARIMA(0, 2, 0)x(1, 0, 2, 12)12 - AIC:11222.622867898954\n",
      "ARIMA(0, 2, 0)x(1, 1, 0, 12)12 - AIC:11422.482810948919\n",
      "ARIMA(0, 2, 0)x(1, 1, 1, 12)12 - AIC:11262.609872390192\n",
      "ARIMA(0, 2, 0)x(1, 1, 2, 12)12 - AIC:10866.216633797983\n",
      "ARIMA(0, 2, 0)x(1, 2, 0, 12)12 - AIC:11271.919518702565\n",
      "ARIMA(0, 2, 0)x(1, 2, 1, 12)12 - AIC:11052.311459463766\n",
      "ARIMA(0, 2, 0)x(1, 2, 2, 12)12 - AIC:10609.92220978755\n",
      "ARIMA(0, 2, 0)x(2, 0, 0, 12)12 - AIC:11256.648804161912\n",
      "ARIMA(0, 2, 0)x(2, 0, 1, 12)12 - AIC:11253.599408677075\n",
      "ARIMA(0, 2, 0)x(2, 0, 2, 12)12 - AIC:11211.297479165918\n",
      "ARIMA(0, 2, 0)x(2, 1, 0, 12)12 - AIC:10990.545421186342\n",
      "ARIMA(0, 2, 0)x(2, 1, 1, 12)12 - AIC:10886.94313058193\n",
      "ARIMA(0, 2, 0)x(2, 1, 2, 12)12 - AIC:10853.814137447465\n",
      "ARIMA(0, 2, 0)x(2, 2, 0, 12)12 - AIC:10784.001629450657\n",
      "ARIMA(0, 2, 0)x(2, 2, 1, 12)12 - AIC:10630.585147522177\n",
      "ARIMA(0, 2, 0)x(2, 2, 2, 12)12 - AIC:10559.873846581479\n",
      "ARIMA(0, 2, 1)x(0, 0, 0, 12)12 - AIC:31265.391811955815\n",
      "ARIMA(0, 2, 1)x(0, 0, 1, 12)12 - AIC:11241.010230661921\n",
      "ARIMA(0, 2, 1)x(0, 0, 2, 12)12 - AIC:10848.555094442896\n",
      "ARIMA(0, 2, 1)x(0, 1, 0, 12)12 - AIC:11457.828918880166\n",
      "ARIMA(0, 2, 1)x(0, 1, 1, 12)12 - AIC:10931.785627638266\n",
      "ARIMA(0, 2, 1)x(0, 1, 2, 12)12 - AIC:10547.70588184066\n",
      "ARIMA(0, 2, 1)x(0, 2, 0, 12)12 - AIC:11418.627654637909\n",
      "ARIMA(0, 2, 1)x(0, 2, 1, 12)12 - AIC:10822.117635026061\n",
      "ARIMA(0, 2, 1)x(0, 2, 2, 12)12 - AIC:10498.864304584393\n",
      "ARIMA(0, 2, 1)x(1, 0, 0, 12)12 - AIC:11304.010390076506\n",
      "ARIMA(0, 2, 1)x(1, 0, 1, 12)12 - AIC:11239.67232460957\n",
      "ARIMA(0, 2, 1)x(1, 0, 2, 12)12 - AIC:10849.907128394541\n",
      "ARIMA(0, 2, 1)x(1, 1, 0, 12)12 - AIC:11079.40080718198\n",
      "ARIMA(0, 2, 1)x(1, 1, 1, 12)12 - AIC:10933.392477866477\n",
      "ARIMA(0, 2, 1)x(1, 1, 2, 12)12 - AIC:10546.435828858965\n",
      "ARIMA(0, 2, 1)x(1, 2, 0, 12)12 - AIC:10969.641085390784\n",
      "ARIMA(0, 2, 1)x(1, 2, 1, 12)12 - AIC:10806.234502581998\n",
      "ARIMA(0, 2, 1)x(1, 2, 2, 12)12 - AIC:10500.755846042819\n",
      "ARIMA(0, 2, 1)x(2, 0, 0, 12)12 - AIC:10913.055798029887\n",
      "ARIMA(0, 2, 1)x(2, 0, 1, 12)12 - AIC:10914.171441490365\n",
      "ARIMA(0, 2, 1)x(2, 0, 2, 12)12 - AIC:10845.004157703348\n",
      "ARIMA(0, 2, 1)x(2, 1, 0, 12)12 - AIC:10666.648675113254\n",
      "ARIMA(0, 2, 1)x(2, 1, 1, 12)12 - AIC:10612.168107424106\n",
      "ARIMA(0, 2, 1)x(2, 1, 2, 12)12 - AIC:10548.432240475811\n",
      "ARIMA(0, 2, 1)x(2, 2, 0, 12)12 - AIC:10526.652550640432\n",
      "ARIMA(0, 2, 1)x(2, 2, 1, 12)12 - AIC:10586.402977896012\n",
      "ARIMA(0, 2, 1)x(2, 2, 2, 12)12 - AIC:10502.11354298519\n",
      "ARIMA(0, 2, 2)x(0, 0, 0, 12)12 - AIC:11461.40969994794\n",
      "ARIMA(0, 2, 2)x(0, 0, 1, 12)12 - AIC:11085.511469208743\n",
      "ARIMA(0, 2, 2)x(0, 0, 2, 12)12 - AIC:10703.351149880189\n"
     ]
    },
    {
     "name": "stderr",
     "output_type": "stream",
     "text": [
      "C:\\Users\\waqarkhan\\Anaconda3\\lib\\site-packages\\statsmodels\\base\\model.py:512: ConvergenceWarning:\n",
      "\n",
      "Maximum Likelihood optimization failed to converge. Check mle_retvals\n",
      "\n"
     ]
    },
    {
     "name": "stdout",
     "output_type": "stream",
     "text": [
      "ARIMA(0, 2, 2)x(0, 1, 0, 12)12 - AIC:11317.591958766134\n",
      "ARIMA(0, 2, 2)x(0, 1, 1, 12)12 - AIC:10848.909420613214\n",
      "ARIMA(0, 2, 2)x(0, 1, 2, 12)12 - AIC:10465.267777009805\n",
      "ARIMA(0, 2, 2)x(0, 2, 0, 12)12 - AIC:11291.992193050122\n",
      "ARIMA(0, 2, 2)x(0, 2, 1, 12)12 - AIC:10781.75736333496\n",
      "ARIMA(0, 2, 2)x(0, 2, 2, 12)12 - AIC:10361.420944618641\n",
      "ARIMA(0, 2, 2)x(1, 0, 0, 12)12 - AIC:11180.411867162604\n",
      "ARIMA(0, 2, 2)x(1, 0, 1, 12)12 - AIC:11084.698115216044\n",
      "ARIMA(0, 2, 2)x(1, 0, 2, 12)12 - AIC:10703.56886933395\n",
      "ARIMA(0, 2, 2)x(1, 1, 0, 12)12 - AIC:10988.075491320584\n",
      "ARIMA(0, 2, 2)x(1, 1, 1, 12)12 - AIC:10850.90923312091\n",
      "ARIMA(0, 2, 2)x(1, 1, 2, 12)12 - AIC:10465.13399089535\n",
      "ARIMA(0, 2, 2)x(1, 2, 0, 12)12 - AIC:10920.331619712308\n",
      "ARIMA(0, 2, 2)x(1, 2, 1, 12)12 - AIC:10771.167757690218\n",
      "ARIMA(0, 2, 2)x(1, 2, 2, 12)12 - AIC:10363.401707961413\n",
      "ARIMA(0, 2, 2)x(2, 0, 0, 12)12 - AIC:10798.083304298589\n",
      "ARIMA(0, 2, 2)x(2, 0, 1, 12)12 - AIC:10798.168527718488\n",
      "ARIMA(0, 2, 2)x(2, 0, 2, 12)12 - AIC:10704.941583924881\n"
     ]
    },
    {
     "name": "stderr",
     "output_type": "stream",
     "text": [
      "C:\\Users\\waqarkhan\\Anaconda3\\lib\\site-packages\\statsmodels\\base\\model.py:512: ConvergenceWarning:\n",
      "\n",
      "Maximum Likelihood optimization failed to converge. Check mle_retvals\n",
      "\n"
     ]
    },
    {
     "name": "stdout",
     "output_type": "stream",
     "text": [
      "ARIMA(0, 2, 2)x(2, 1, 0, 12)12 - AIC:10582.592617277933\n",
      "ARIMA(0, 2, 2)x(2, 1, 1, 12)12 - AIC:10562.722539596232\n"
     ]
    },
    {
     "name": "stderr",
     "output_type": "stream",
     "text": [
      "C:\\Users\\waqarkhan\\Anaconda3\\lib\\site-packages\\statsmodels\\base\\model.py:512: ConvergenceWarning:\n",
      "\n",
      "Maximum Likelihood optimization failed to converge. Check mle_retvals\n",
      "\n"
     ]
    },
    {
     "name": "stdout",
     "output_type": "stream",
     "text": [
      "ARIMA(0, 2, 2)x(2, 1, 2, 12)12 - AIC:10466.490886240423\n",
      "ARIMA(0, 2, 2)x(2, 2, 0, 12)12 - AIC:10493.485251061764\n",
      "ARIMA(0, 2, 2)x(2, 2, 1, 12)12 - AIC:10468.345030867771\n"
     ]
    },
    {
     "name": "stderr",
     "output_type": "stream",
     "text": [
      "C:\\Users\\waqarkhan\\Anaconda3\\lib\\site-packages\\statsmodels\\base\\model.py:512: ConvergenceWarning:\n",
      "\n",
      "Maximum Likelihood optimization failed to converge. Check mle_retvals\n",
      "\n"
     ]
    },
    {
     "name": "stdout",
     "output_type": "stream",
     "text": [
      "ARIMA(0, 2, 2)x(2, 2, 2, 12)12 - AIC:10369.120394117048\n",
      "ARIMA(1, 0, 0)x(0, 0, 0, 12)12 - AIC:11596.94164032648\n",
      "ARIMA(1, 0, 0)x(0, 0, 1, 12)12 - AIC:11215.477224672386\n",
      "ARIMA(1, 0, 0)x(0, 0, 2, 12)12 - AIC:10833.318605673638\n",
      "ARIMA(1, 0, 0)x(0, 1, 0, 12)12 - AIC:11355.631071857737\n",
      "ARIMA(1, 0, 0)x(0, 1, 1, 12)12 - AIC:10828.77130538002\n",
      "ARIMA(1, 0, 0)x(0, 1, 2, 12)12 - AIC:10451.682980214424\n",
      "ARIMA(1, 0, 0)x(0, 2, 0, 12)12 - AIC:11337.543501344939\n",
      "ARIMA(1, 0, 0)x(0, 2, 1, 12)12 - AIC:10720.702417081942\n",
      "ARIMA(1, 0, 0)x(0, 2, 2, 12)12 - AIC:10291.845495229123\n",
      "ARIMA(1, 0, 0)x(1, 0, 0, 12)12 - AIC:11213.135542203963\n",
      "ARIMA(1, 0, 0)x(1, 0, 1, 12)12 - AIC:11173.658900405637\n",
      "ARIMA(1, 0, 0)x(1, 0, 2, 12)12 - AIC:10793.856043275235\n",
      "ARIMA(1, 0, 0)x(1, 1, 0, 12)12 - AIC:10903.38676597205\n",
      "ARIMA(1, 0, 0)x(1, 1, 1, 12)12 - AIC:10830.649951580055\n",
      "ARIMA(1, 0, 0)x(1, 1, 2, 12)12 - AIC:10452.13233205504\n",
      "ARIMA(1, 0, 0)x(1, 2, 0, 12)12 - AIC:10813.593225195511\n",
      "ARIMA(1, 0, 0)x(1, 2, 1, 12)12 - AIC:10701.288334208599\n",
      "ARIMA(1, 0, 0)x(1, 2, 2, 12)12 - AIC:10293.84049317271\n",
      "ARIMA(1, 0, 0)x(2, 0, 0, 12)12 - AIC:10829.23870065016\n",
      "ARIMA(1, 0, 0)x(2, 0, 1, 12)12 - AIC:10793.87165341483\n",
      "ARIMA(1, 0, 0)x(2, 0, 2, 12)12 - AIC:10793.641655464146\n",
      "ARIMA(1, 0, 0)x(2, 1, 0, 12)12 - AIC:10491.22205896502\n",
      "ARIMA(1, 0, 0)x(2, 1, 1, 12)12 - AIC:10452.581266192912\n",
      "ARIMA(1, 0, 0)x(2, 1, 2, 12)12 - AIC:10453.965813291155\n",
      "ARIMA(1, 0, 0)x(2, 2, 0, 12)12 - AIC:10368.4973988268\n",
      "ARIMA(1, 0, 0)x(2, 2, 1, 12)12 - AIC:10302.94206615943\n",
      "ARIMA(1, 0, 0)x(2, 2, 2, 12)12 - AIC:10295.124193024134\n",
      "ARIMA(1, 0, 1)x(0, 0, 0, 12)12 - AIC:11477.994356562831\n",
      "ARIMA(1, 0, 1)x(0, 0, 1, 12)12 - AIC:11110.025250807259\n",
      "ARIMA(1, 0, 1)x(0, 0, 2, 12)12 - AIC:10730.291984100793\n",
      "ARIMA(1, 0, 1)x(0, 1, 0, 12)12 - AIC:11326.333137501515\n",
      "ARIMA(1, 0, 1)x(0, 1, 1, 12)12 - AIC:10782.122103795587\n",
      "ARIMA(1, 0, 1)x(0, 1, 2, 12)12 - AIC:10406.332248310044\n",
      "ARIMA(1, 0, 1)x(0, 2, 0, 12)12 - AIC:11307.065065782703\n",
      "ARIMA(1, 0, 1)x(0, 2, 1, 12)12 - AIC:10691.669729207679\n",
      "ARIMA(1, 0, 1)x(0, 2, 2, 12)12 - AIC:10262.432154470156\n",
      "ARIMA(1, 0, 1)x(1, 0, 0, 12)12 - AIC:11140.77595145021\n",
      "ARIMA(1, 0, 1)x(1, 0, 1, 12)12 - AIC:11101.545883892422\n",
      "ARIMA(1, 0, 1)x(1, 0, 2, 12)12 - AIC:10723.821104354658\n",
      "ARIMA(1, 0, 1)x(1, 1, 0, 12)12 - AIC:10905.847180620236\n",
      "ARIMA(1, 0, 1)x(1, 1, 1, 12)12 - AIC:10784.073707544976\n",
      "ARIMA(1, 0, 1)x(1, 1, 2, 12)12 - AIC:10407.787771726089\n",
      "ARIMA(1, 0, 1)x(1, 2, 0, 12)12 - AIC:10816.583237958046\n",
      "ARIMA(1, 0, 1)x(1, 2, 1, 12)12 - AIC:10672.692669855707\n",
      "ARIMA(1, 0, 1)x(1, 2, 2, 12)12 - AIC:10264.429412273037\n",
      "ARIMA(1, 0, 1)x(2, 0, 0, 12)12 - AIC:10762.15956188734\n",
      "ARIMA(1, 0, 1)x(2, 0, 1, 12)12 - AIC:10754.891467098227\n",
      "ARIMA(1, 0, 1)x(2, 0, 2, 12)12 - AIC:10729.345377148733\n",
      "ARIMA(1, 0, 1)x(2, 1, 0, 12)12 - AIC:10493.74293012212\n",
      "ARIMA(1, 0, 1)x(2, 1, 1, 12)12 - AIC:10439.09403903788\n",
      "ARIMA(1, 0, 1)x(2, 1, 2, 12)12 - AIC:10409.423926572963\n",
      "ARIMA(1, 0, 1)x(2, 2, 0, 12)12 - AIC:10371.838852159304\n",
      "ARIMA(1, 0, 1)x(2, 2, 1, 12)12 - AIC:10306.66972790014\n",
      "ARIMA(1, 0, 1)x(2, 2, 2, 12)12 - AIC:10265.594697326029\n",
      "ARIMA(1, 0, 2)x(0, 0, 0, 12)12 - AIC:11443.367420380746\n",
      "ARIMA(1, 0, 2)x(0, 0, 1, 12)12 - AIC:11075.81910024834\n",
      "ARIMA(1, 0, 2)x(0, 0, 2, 12)12 - AIC:10694.905177825267\n",
      "ARIMA(1, 0, 2)x(0, 1, 0, 12)12 - AIC:11295.744163703901\n",
      "ARIMA(1, 0, 2)x(0, 1, 1, 12)12 - AIC:10767.643332244126\n",
      "ARIMA(1, 0, 2)x(0, 1, 2, 12)12 - AIC:10391.424696479356\n",
      "ARIMA(1, 0, 2)x(0, 2, 0, 12)12 - AIC:11275.270426044837\n",
      "ARIMA(1, 0, 2)x(0, 2, 1, 12)12 - AIC:10656.861170508719\n",
      "ARIMA(1, 0, 2)x(0, 2, 2, 12)12 - AIC:10230.481989518894\n",
      "ARIMA(1, 0, 2)x(1, 0, 0, 12)12 - AIC:11137.235083907832\n",
      "ARIMA(1, 0, 2)x(1, 0, 1, 12)12 - AIC:11067.01434604793\n",
      "ARIMA(1, 0, 2)x(1, 0, 2, 12)12 - AIC:10688.636968196364\n",
      "ARIMA(1, 0, 2)x(1, 1, 0, 12)12 - AIC:10905.718576220665\n",
      "ARIMA(1, 0, 2)x(1, 1, 1, 12)12 - AIC:10769.611955921398\n",
      "ARIMA(1, 0, 2)x(1, 1, 2, 12)12 - AIC:10391.630720128996\n",
      "ARIMA(1, 0, 2)x(1, 2, 0, 12)12 - AIC:10817.016863531468\n",
      "ARIMA(1, 0, 2)x(1, 2, 1, 12)12 - AIC:10640.976475529827\n",
      "ARIMA(1, 0, 2)x(1, 2, 2, 12)12 - AIC:10232.47059620448\n",
      "ARIMA(1, 0, 2)x(2, 0, 0, 12)12 - AIC:10757.848031592921\n"
     ]
    },
    {
     "name": "stderr",
     "output_type": "stream",
     "text": [
      "C:\\Users\\waqarkhan\\Anaconda3\\lib\\site-packages\\statsmodels\\base\\model.py:512: ConvergenceWarning:\n",
      "\n",
      "Maximum Likelihood optimization failed to converge. Check mle_retvals\n",
      "\n"
     ]
    },
    {
     "name": "stdout",
     "output_type": "stream",
     "text": [
      "ARIMA(1, 0, 2)x(2, 0, 1, 12)12 - AIC:10750.934030883096\n",
      "ARIMA(1, 0, 2)x(2, 0, 2, 12)12 - AIC:10693.74139152572\n",
      "ARIMA(1, 0, 2)x(2, 1, 0, 12)12 - AIC:10492.8637270063\n",
      "ARIMA(1, 0, 2)x(2, 1, 1, 12)12 - AIC:10454.828945805091\n",
      "ARIMA(1, 0, 2)x(2, 1, 2, 12)12 - AIC:10393.265776277069\n",
      "ARIMA(1, 0, 2)x(2, 2, 0, 12)12 - AIC:10371.767834699654\n",
      "ARIMA(1, 0, 2)x(2, 2, 1, 12)12 - AIC:10307.054303336008\n",
      "ARIMA(1, 0, 2)x(2, 2, 2, 12)12 - AIC:10233.852724971184\n",
      "ARIMA(1, 1, 0)x(0, 0, 0, 12)12 - AIC:11581.857828944187\n",
      "ARIMA(1, 1, 0)x(0, 0, 1, 12)12 - AIC:11212.17797095923\n",
      "ARIMA(1, 1, 0)x(0, 0, 2, 12)12 - AIC:10826.73903767044\n",
      "ARIMA(1, 1, 0)x(0, 1, 0, 12)12 - AIC:11445.763647075097\n",
      "ARIMA(1, 1, 0)x(0, 1, 1, 12)12 - AIC:10889.83618351498\n",
      "ARIMA(1, 1, 0)x(0, 1, 2, 12)12 - AIC:10510.316499431767\n",
      "ARIMA(1, 1, 0)x(0, 2, 0, 12)12 - AIC:11421.44789324977\n",
      "ARIMA(1, 1, 0)x(0, 2, 1, 12)12 - AIC:10798.767985021928\n",
      "ARIMA(1, 1, 0)x(0, 2, 2, 12)12 - AIC:10363.698605514544\n",
      "ARIMA(1, 1, 0)x(1, 0, 0, 12)12 - AIC:11212.193487527244\n",
      "ARIMA(1, 1, 0)x(1, 0, 1, 12)12 - AIC:11208.631079745099\n",
      "ARIMA(1, 1, 0)x(1, 0, 2, 12)12 - AIC:10824.890923775507\n",
      "ARIMA(1, 1, 0)x(1, 1, 0, 12)12 - AIC:10989.675481457602\n",
      "ARIMA(1, 1, 0)x(1, 1, 1, 12)12 - AIC:10891.72684357503\n",
      "ARIMA(1, 1, 0)x(1, 1, 2, 12)12 - AIC:10509.43748024536\n",
      "ARIMA(1, 1, 0)x(1, 2, 0, 12)12 - AIC:10895.4582117171\n",
      "ARIMA(1, 1, 0)x(1, 2, 1, 12)12 - AIC:10780.223537348525\n",
      "ARIMA(1, 1, 0)x(1, 2, 2, 12)12 - AIC:10365.695905480745\n",
      "ARIMA(1, 1, 0)x(2, 0, 0, 12)12 - AIC:10826.908512818873\n",
      "ARIMA(1, 1, 0)x(2, 0, 1, 12)12 - AIC:10824.960127572856\n",
      "ARIMA(1, 1, 0)x(2, 0, 2, 12)12 - AIC:10826.33248061344\n",
      "ARIMA(1, 1, 0)x(2, 1, 0, 12)12 - AIC:10570.854310805244\n",
      "ARIMA(1, 1, 0)x(2, 1, 1, 12)12 - AIC:10511.386545942856\n",
      "ARIMA(1, 1, 0)x(2, 1, 2, 12)12 - AIC:10511.168844454129\n",
      "ARIMA(1, 1, 0)x(2, 2, 0, 12)12 - AIC:10446.527720475839\n",
      "ARIMA(1, 1, 0)x(2, 2, 1, 12)12 - AIC:10376.51389381068\n",
      "ARIMA(1, 1, 0)x(2, 2, 2, 12)12 - AIC:10366.912903264165\n",
      "ARIMA(1, 1, 1)x(0, 0, 0, 12)12 - AIC:11445.081623211257\n",
      "ARIMA(1, 1, 1)x(0, 0, 1, 12)12 - AIC:11076.755631115579\n",
      "ARIMA(1, 1, 1)x(0, 0, 2, 12)12 - AIC:10695.945894272416\n",
      "ARIMA(1, 1, 1)x(0, 1, 0, 12)12 - AIC:11301.788647421847\n",
      "ARIMA(1, 1, 1)x(0, 1, 1, 12)12 - AIC:10784.73627056511\n",
      "ARIMA(1, 1, 1)x(0, 1, 2, 12)12 - AIC:10407.429812982667\n",
      "ARIMA(1, 1, 1)x(0, 2, 0, 12)12 - AIC:11278.221867042135\n",
      "ARIMA(1, 1, 1)x(0, 2, 1, 12)12 - AIC:10698.080809142808\n",
      "ARIMA(1, 1, 1)x(0, 2, 2, 12)12 - AIC:10269.423367446787\n",
      "ARIMA(1, 1, 1)x(1, 0, 0, 12)12 - AIC:11107.538301960421\n",
      "ARIMA(1, 1, 1)x(1, 0, 1, 12)12 - AIC:11074.865330844488\n",
      "ARIMA(1, 1, 1)x(1, 0, 2, 12)12 - AIC:10695.676539951543\n",
      "ARIMA(1, 1, 1)x(1, 1, 0, 12)12 - AIC:10891.889853046587\n",
      "ARIMA(1, 1, 1)x(1, 1, 1, 12)12 - AIC:10794.355363379724\n",
      "ARIMA(1, 1, 1)x(1, 1, 2, 12)12 - AIC:10406.863252747817\n",
      "ARIMA(1, 1, 1)x(1, 2, 0, 12)12 - AIC:10803.574031558852\n",
      "ARIMA(1, 1, 1)x(1, 2, 1, 12)12 - AIC:10680.411758802753\n",
      "ARIMA(1, 1, 1)x(1, 2, 2, 12)12 - AIC:10271.401234886103\n",
      "ARIMA(1, 1, 1)x(2, 0, 0, 12)12 - AIC:10727.240864967793\n",
      "ARIMA(1, 1, 1)x(2, 0, 1, 12)12 - AIC:10726.638604380078\n",
      "ARIMA(1, 1, 1)x(2, 0, 2, 12)12 - AIC:10697.33321359363\n",
      "ARIMA(1, 1, 1)x(2, 1, 0, 12)12 - AIC:10484.468412476044\n",
      "ARIMA(1, 1, 1)x(2, 1, 1, 12)12 - AIC:10440.050264484355\n",
      "ARIMA(1, 1, 1)x(2, 1, 2, 12)12 - AIC:10408.67287847654\n",
      "ARIMA(1, 1, 1)x(2, 2, 0, 12)12 - AIC:10364.888445593766\n",
      "ARIMA(1, 1, 1)x(2, 2, 1, 12)12 - AIC:10313.501875566362\n",
      "ARIMA(1, 1, 1)x(2, 2, 2, 12)12 - AIC:10272.81826316406\n"
     ]
    },
    {
     "name": "stderr",
     "output_type": "stream",
     "text": [
      "C:\\Users\\waqarkhan\\Anaconda3\\lib\\site-packages\\statsmodels\\base\\model.py:512: ConvergenceWarning:\n",
      "\n",
      "Maximum Likelihood optimization failed to converge. Check mle_retvals\n",
      "\n"
     ]
    },
    {
     "name": "stdout",
     "output_type": "stream",
     "text": [
      "ARIMA(1, 1, 2)x(0, 0, 0, 12)12 - AIC:11434.9778605127\n"
     ]
    },
    {
     "name": "stderr",
     "output_type": "stream",
     "text": [
      "C:\\Users\\waqarkhan\\Anaconda3\\lib\\site-packages\\statsmodels\\base\\model.py:512: ConvergenceWarning:\n",
      "\n",
      "Maximum Likelihood optimization failed to converge. Check mle_retvals\n",
      "\n"
     ]
    },
    {
     "name": "stdout",
     "output_type": "stream",
     "text": [
      "ARIMA(1, 1, 2)x(0, 0, 1, 12)12 - AIC:11068.071491661201\n",
      "ARIMA(1, 1, 2)x(0, 0, 2, 12)12 - AIC:10659.112734214243\n",
      "ARIMA(1, 1, 2)x(0, 1, 0, 12)12 - AIC:11442.343514469965\n",
      "ARIMA(1, 1, 2)x(0, 1, 1, 12)12 - AIC:10917.048573731965\n",
      "ARIMA(1, 1, 2)x(0, 1, 2, 12)12 - AIC:10480.332060658875\n",
      "ARIMA(1, 1, 2)x(0, 2, 0, 12)12 - AIC:11245.724987072252\n",
      "ARIMA(1, 1, 2)x(0, 2, 1, 12)12 - AIC:10655.15270327689\n",
      "ARIMA(1, 1, 2)x(0, 2, 2, 12)12 - AIC:10224.378220338194\n"
     ]
    },
    {
     "name": "stderr",
     "output_type": "stream",
     "text": [
      "C:\\Users\\waqarkhan\\Anaconda3\\lib\\site-packages\\statsmodels\\base\\model.py:512: ConvergenceWarning:\n",
      "\n",
      "Maximum Likelihood optimization failed to converge. Check mle_retvals\n",
      "\n"
     ]
    },
    {
     "name": "stdout",
     "output_type": "stream",
     "text": [
      "ARIMA(1, 1, 2)x(1, 0, 0, 12)12 - AIC:11128.921491531844\n"
     ]
    },
    {
     "name": "stderr",
     "output_type": "stream",
     "text": [
      "C:\\Users\\waqarkhan\\Anaconda3\\lib\\site-packages\\statsmodels\\base\\model.py:512: ConvergenceWarning:\n",
      "\n",
      "Maximum Likelihood optimization failed to converge. Check mle_retvals\n",
      "\n"
     ]
    },
    {
     "name": "stdout",
     "output_type": "stream",
     "text": [
      "ARIMA(1, 1, 2)x(1, 0, 1, 12)12 - AIC:11070.003353944541\n"
     ]
    },
    {
     "name": "stderr",
     "output_type": "stream",
     "text": [
      "C:\\Users\\waqarkhan\\Anaconda3\\lib\\site-packages\\statsmodels\\base\\model.py:512: ConvergenceWarning:\n",
      "\n",
      "Maximum Likelihood optimization failed to converge. Check mle_retvals\n",
      "\n"
     ]
    },
    {
     "name": "stdout",
     "output_type": "stream",
     "text": [
      "ARIMA(1, 1, 2)x(1, 0, 2, 12)12 - AIC:10661.295360760345\n",
      "ARIMA(1, 1, 2)x(1, 1, 0, 12)12 - AIC:11039.904290651275\n",
      "ARIMA(1, 1, 2)x(1, 1, 1, 12)12 - AIC:10919.047589258273\n",
      "ARIMA(1, 1, 2)x(1, 1, 2, 12)12 - AIC:10481.5467001414\n",
      "ARIMA(1, 1, 2)x(1, 2, 0, 12)12 - AIC:10797.576673844638\n",
      "ARIMA(1, 1, 2)x(1, 2, 1, 12)12 - AIC:10636.594198640021\n"
     ]
    },
    {
     "name": "stderr",
     "output_type": "stream",
     "text": [
      "C:\\Users\\waqarkhan\\Anaconda3\\lib\\site-packages\\statsmodels\\base\\model.py:512: ConvergenceWarning:\n",
      "\n",
      "Maximum Likelihood optimization failed to converge. Check mle_retvals\n",
      "\n"
     ]
    },
    {
     "name": "stdout",
     "output_type": "stream",
     "text": [
      "ARIMA(1, 1, 2)x(1, 2, 2, 12)12 - AIC:10278.655091732708\n",
      "ARIMA(1, 1, 2)x(2, 0, 0, 12)12 - AIC:10721.844829812318\n",
      "ARIMA(1, 1, 2)x(2, 0, 1, 12)12 - AIC:10724.162152491821\n",
      "ARIMA(1, 1, 2)x(2, 0, 2, 12)12 - AIC:10663.344561447488\n",
      "ARIMA(1, 1, 2)x(2, 1, 0, 12)12 - AIC:10581.525371831129\n",
      "ARIMA(1, 1, 2)x(2, 1, 1, 12)12 - AIC:10554.163644604556\n",
      "ARIMA(1, 1, 2)x(2, 1, 2, 12)12 - AIC:10483.138957801066\n",
      "ARIMA(1, 1, 2)x(2, 2, 0, 12)12 - AIC:10356.688058609132\n",
      "ARIMA(1, 1, 2)x(2, 2, 1, 12)12 - AIC:10302.045785650358\n",
      "ARIMA(1, 1, 2)x(2, 2, 2, 12)12 - AIC:10227.872613923055\n",
      "ARIMA(1, 2, 0)x(0, 0, 0, 12)12 - AIC:11810.656575440886\n",
      "ARIMA(1, 2, 0)x(0, 0, 1, 12)12 - AIC:11432.218271746715\n",
      "ARIMA(1, 2, 0)x(0, 0, 2, 12)12 - AIC:11036.323486569872\n",
      "ARIMA(1, 2, 0)x(0, 1, 0, 12)12 - AIC:11676.648309074415\n",
      "ARIMA(1, 2, 0)x(0, 1, 1, 12)12 - AIC:11105.474549821789\n",
      "ARIMA(1, 2, 0)x(0, 1, 2, 12)12 - AIC:10716.817033040697\n",
      "ARIMA(1, 2, 0)x(0, 2, 0, 12)12 - AIC:11646.089546949552\n",
      "ARIMA(1, 2, 0)x(0, 2, 1, 12)12 - AIC:11012.530572717358\n",
      "ARIMA(1, 2, 0)x(0, 2, 2, 12)12 - AIC:10565.159154855952\n",
      "ARIMA(1, 2, 0)x(1, 0, 0, 12)12 - AIC:11432.243792793572\n",
      "ARIMA(1, 2, 0)x(1, 0, 1, 12)12 - AIC:11432.869304573682\n",
      "ARIMA(1, 2, 0)x(1, 0, 2, 12)12 - AIC:11038.312418049743\n",
      "ARIMA(1, 2, 0)x(1, 1, 0, 12)12 - AIC:11205.717150420514\n",
      "ARIMA(1, 2, 0)x(1, 1, 1, 12)12 - AIC:11107.46502616072\n",
      "ARIMA(1, 2, 0)x(1, 1, 2, 12)12 - AIC:10715.944854845704\n",
      "ARIMA(1, 2, 0)x(1, 2, 0, 12)12 - AIC:11106.00266293161\n",
      "ARIMA(1, 2, 0)x(1, 2, 1, 12)12 - AIC:10992.675961631187\n",
      "ARIMA(1, 2, 0)x(1, 2, 2, 12)12 - AIC:10567.12499703079\n",
      "ARIMA(1, 2, 0)x(2, 0, 0, 12)12 - AIC:11036.600141763298\n",
      "ARIMA(1, 2, 0)x(2, 0, 1, 12)12 - AIC:11038.445834662642\n",
      "ARIMA(1, 2, 0)x(2, 0, 2, 12)12 - AIC:11033.897578390188\n",
      "ARIMA(1, 2, 0)x(2, 1, 0, 12)12 - AIC:10778.858201537907\n",
      "ARIMA(1, 2, 0)x(2, 1, 1, 12)12 - AIC:10717.992353275593\n",
      "ARIMA(1, 2, 0)x(2, 1, 2, 12)12 - AIC:10717.019097564184\n",
      "ARIMA(1, 2, 0)x(2, 2, 0, 12)12 - AIC:10648.02615873076\n",
      "ARIMA(1, 2, 0)x(2, 2, 1, 12)12 - AIC:10580.038124930697\n",
      "ARIMA(1, 2, 0)x(2, 2, 2, 12)12 - AIC:10568.484526584169\n",
      "ARIMA(1, 2, 1)x(0, 0, 0, 12)12 - AIC:11547.367729039453\n",
      "ARIMA(1, 2, 1)x(0, 0, 1, 12)12 - AIC:11173.200809466314\n",
      "ARIMA(1, 2, 1)x(0, 0, 2, 12)12 - AIC:10787.89971989173\n",
      "ARIMA(1, 2, 1)x(0, 1, 0, 12)12 - AIC:11399.337034691205\n",
      "ARIMA(1, 2, 1)x(0, 1, 1, 12)12 - AIC:10894.213011990312\n",
      "ARIMA(1, 2, 1)x(0, 1, 2, 12)12 - AIC:10511.410631272201\n"
     ]
    },
    {
     "name": "stderr",
     "output_type": "stream",
     "text": [
      "C:\\Users\\waqarkhan\\Anaconda3\\lib\\site-packages\\statsmodels\\base\\model.py:512: ConvergenceWarning:\n",
      "\n",
      "Maximum Likelihood optimization failed to converge. Check mle_retvals\n",
      "\n"
     ]
    },
    {
     "name": "stdout",
     "output_type": "stream",
     "text": [
      "ARIMA(1, 2, 1)x(0, 2, 0, 12)12 - AIC:11367.110671764418\n",
      "ARIMA(1, 2, 1)x(0, 2, 1, 12)12 - AIC:10801.997741125379\n",
      "ARIMA(1, 2, 1)x(0, 2, 2, 12)12 - AIC:10372.030120220617\n",
      "ARIMA(1, 2, 1)x(1, 0, 0, 12)12 - AIC:11204.518977233667\n",
      "ARIMA(1, 2, 1)x(1, 0, 1, 12)12 - AIC:11171.077712262744\n",
      "ARIMA(1, 2, 1)x(1, 0, 2, 12)12 - AIC:10786.88541413281\n",
      "ARIMA(1, 2, 1)x(1, 1, 0, 12)12 - AIC:10992.048581630635\n",
      "ARIMA(1, 2, 1)x(1, 1, 1, 12)12 - AIC:10896.144901517317\n",
      "ARIMA(1, 2, 1)x(1, 1, 2, 12)12 - AIC:10510.09175697196\n",
      "ARIMA(1, 2, 1)x(1, 2, 0, 12)12 - AIC:10901.141595925426\n",
      "ARIMA(1, 2, 1)x(1, 2, 1, 12)12 - AIC:10786.677655687126\n",
      "ARIMA(1, 2, 1)x(1, 2, 2, 12)12 - AIC:10374.006380417268\n",
      "ARIMA(1, 2, 1)x(2, 0, 0, 12)12 - AIC:10819.496795584784\n",
      "ARIMA(1, 2, 1)x(2, 0, 1, 12)12 - AIC:10818.437170128656\n",
      "ARIMA(1, 2, 1)x(2, 0, 2, 12)12 - AIC:10788.860687845172\n",
      "ARIMA(1, 2, 1)x(2, 1, 0, 12)12 - AIC:10580.736998550427\n",
      "ARIMA(1, 2, 1)x(2, 1, 1, 12)12 - AIC:10544.871994410045\n",
      "ARIMA(1, 2, 1)x(2, 1, 2, 12)12 - AIC:10511.870579293698\n",
      "ARIMA(1, 2, 1)x(2, 2, 0, 12)12 - AIC:10462.434240068858\n",
      "ARIMA(1, 2, 1)x(2, 2, 1, 12)12 - AIC:10415.361808821404\n",
      "ARIMA(1, 2, 1)x(2, 2, 2, 12)12 - AIC:10375.420379094128\n",
      "ARIMA(1, 2, 2)x(0, 0, 0, 12)12 - AIC:12397.580556688856\n",
      "ARIMA(1, 2, 2)x(0, 0, 1, 12)12 - AIC:11058.784208206474\n",
      "ARIMA(1, 2, 2)x(0, 0, 2, 12)12 - AIC:10675.504088998554\n",
      "ARIMA(1, 2, 2)x(0, 1, 0, 12)12 - AIC:11301.058978756122\n",
      "ARIMA(1, 2, 2)x(0, 1, 1, 12)12 - AIC:10825.827566023589\n",
      "ARIMA(1, 2, 2)x(0, 1, 2, 12)12 - AIC:10440.875844027094\n",
      "ARIMA(1, 2, 2)x(0, 2, 0, 12)12 - AIC:11272.499721180246\n",
      "ARIMA(1, 2, 2)x(0, 2, 1, 12)12 - AIC:10760.019585313072\n",
      "ARIMA(1, 2, 2)x(0, 2, 2, 12)12 - AIC:10337.78773552083\n",
      "ARIMA(1, 2, 2)x(1, 0, 0, 12)12 - AIC:11121.95239158993\n",
      "ARIMA(1, 2, 2)x(1, 0, 1, 12)12 - AIC:11056.62390075798\n",
      "ARIMA(1, 2, 2)x(1, 0, 2, 12)12 - AIC:10675.452315349296\n",
      "ARIMA(1, 2, 2)x(1, 1, 0, 12)12 - AIC:10936.229146865946\n",
      "ARIMA(1, 2, 2)x(1, 1, 1, 12)12 - AIC:10827.804175620262\n"
     ]
    },
    {
     "name": "stderr",
     "output_type": "stream",
     "text": [
      "C:\\Users\\waqarkhan\\Anaconda3\\lib\\site-packages\\statsmodels\\base\\model.py:512: ConvergenceWarning:\n",
      "\n",
      "Maximum Likelihood optimization failed to converge. Check mle_retvals\n",
      "\n"
     ]
    },
    {
     "name": "stdout",
     "output_type": "stream",
     "text": [
      "ARIMA(1, 2, 2)x(1, 1, 2, 12)12 - AIC:10440.355212087452\n",
      "ARIMA(1, 2, 2)x(1, 2, 0, 12)12 - AIC:10866.133899470165\n",
      "ARIMA(1, 2, 2)x(1, 2, 1, 12)12 - AIC:10747.73838944322\n",
      "ARIMA(1, 2, 2)x(1, 2, 2, 12)12 - AIC:10339.775000643489\n",
      "ARIMA(1, 2, 2)x(2, 0, 0, 12)12 - AIC:10737.555061773868\n"
     ]
    },
    {
     "name": "stderr",
     "output_type": "stream",
     "text": [
      "C:\\Users\\waqarkhan\\Anaconda3\\lib\\site-packages\\statsmodels\\base\\model.py:512: ConvergenceWarning:\n",
      "\n",
      "Maximum Likelihood optimization failed to converge. Check mle_retvals\n",
      "\n"
     ]
    },
    {
     "name": "stdout",
     "output_type": "stream",
     "text": [
      "ARIMA(1, 2, 2)x(2, 0, 1, 12)12 - AIC:10737.535724873118\n"
     ]
    },
    {
     "name": "stderr",
     "output_type": "stream",
     "text": [
      "C:\\Users\\waqarkhan\\Anaconda3\\lib\\site-packages\\statsmodels\\base\\model.py:512: ConvergenceWarning:\n",
      "\n",
      "Maximum Likelihood optimization failed to converge. Check mle_retvals\n",
      "\n"
     ]
    },
    {
     "name": "stdout",
     "output_type": "stream",
     "text": [
      "ARIMA(1, 2, 2)x(2, 0, 2, 12)12 - AIC:10675.79498673238\n",
      "ARIMA(1, 2, 2)x(2, 1, 0, 12)12 - AIC:10530.527509864081\n"
     ]
    },
    {
     "name": "stderr",
     "output_type": "stream",
     "text": [
      "C:\\Users\\waqarkhan\\Anaconda3\\lib\\site-packages\\statsmodels\\base\\model.py:512: ConvergenceWarning:\n",
      "\n",
      "Maximum Likelihood optimization failed to converge. Check mle_retvals\n",
      "\n"
     ]
    },
    {
     "name": "stdout",
     "output_type": "stream",
     "text": [
      "ARIMA(1, 2, 2)x(2, 1, 1, 12)12 - AIC:10505.461758816338\n"
     ]
    },
    {
     "name": "stderr",
     "output_type": "stream",
     "text": [
      "C:\\Users\\waqarkhan\\Anaconda3\\lib\\site-packages\\statsmodels\\base\\model.py:512: ConvergenceWarning:\n",
      "\n",
      "Maximum Likelihood optimization failed to converge. Check mle_retvals\n",
      "\n"
     ]
    },
    {
     "name": "stdout",
     "output_type": "stream",
     "text": [
      "ARIMA(1, 2, 2)x(2, 1, 2, 12)12 - AIC:10441.719487993094\n",
      "ARIMA(1, 2, 2)x(2, 2, 0, 12)12 - AIC:10439.350338336137\n"
     ]
    },
    {
     "name": "stderr",
     "output_type": "stream",
     "text": [
      "C:\\Users\\waqarkhan\\Anaconda3\\lib\\site-packages\\statsmodels\\base\\model.py:512: ConvergenceWarning:\n",
      "\n",
      "Maximum Likelihood optimization failed to converge. Check mle_retvals\n",
      "\n"
     ]
    },
    {
     "name": "stdout",
     "output_type": "stream",
     "text": [
      "ARIMA(1, 2, 2)x(2, 2, 1, 12)12 - AIC:10411.7584966021\n"
     ]
    },
    {
     "name": "stderr",
     "output_type": "stream",
     "text": [
      "C:\\Users\\waqarkhan\\Anaconda3\\lib\\site-packages\\statsmodels\\base\\model.py:512: ConvergenceWarning:\n",
      "\n",
      "Maximum Likelihood optimization failed to converge. Check mle_retvals\n",
      "\n"
     ]
    },
    {
     "name": "stdout",
     "output_type": "stream",
     "text": [
      "ARIMA(1, 2, 2)x(2, 2, 2, 12)12 - AIC:10343.003936273864\n",
      "ARIMA(2, 0, 0)x(0, 0, 0, 12)12 - AIC:11538.162096456816\n",
      "ARIMA(2, 0, 0)x(0, 0, 1, 12)12 - AIC:11196.612339881245\n",
      "ARIMA(2, 0, 0)x(0, 0, 2, 12)12 - AIC:10816.308951146131\n",
      "ARIMA(2, 0, 0)x(0, 1, 0, 12)12 - AIC:11326.33522080327\n",
      "ARIMA(2, 0, 0)x(0, 1, 1, 12)12 - AIC:10829.310532064068\n",
      "ARIMA(2, 0, 0)x(0, 1, 2, 12)12 - AIC:10452.65020790436\n",
      "ARIMA(2, 0, 0)x(0, 2, 0, 12)12 - AIC:11307.060279678863\n",
      "ARIMA(2, 0, 0)x(0, 2, 1, 12)12 - AIC:10723.219509123612\n",
      "ARIMA(2, 0, 0)x(0, 2, 2, 12)12 - AIC:10294.298598476727\n",
      "ARIMA(2, 0, 0)x(1, 0, 0, 12)12 - AIC:11165.693034881715\n",
      "ARIMA(2, 0, 0)x(1, 0, 1, 12)12 - AIC:11139.017574463267\n",
      "ARIMA(2, 0, 0)x(1, 0, 2, 12)12 - AIC:10790.310408132409\n",
      "ARIMA(2, 0, 0)x(1, 1, 0, 12)12 - AIC:10873.504654247023\n",
      "ARIMA(2, 0, 0)x(1, 1, 1, 12)12 - AIC:10799.31742568774\n",
      "ARIMA(2, 0, 0)x(1, 1, 2, 12)12 - AIC:10452.811007753575\n",
      "ARIMA(2, 0, 0)x(1, 2, 0, 12)12 - AIC:10783.143425744789\n",
      "ARIMA(2, 0, 0)x(1, 2, 1, 12)12 - AIC:10671.423016180255\n",
      "ARIMA(2, 0, 0)x(1, 2, 2, 12)12 - AIC:10296.288260187768\n",
      "ARIMA(2, 0, 0)x(2, 0, 0, 12)12 - AIC:10784.656739758677\n",
      "ARIMA(2, 0, 0)x(2, 0, 1, 12)12 - AIC:10758.505885330978\n",
      "ARIMA(2, 0, 0)x(2, 0, 2, 12)12 - AIC:10757.564144767788\n",
      "ARIMA(2, 0, 0)x(2, 1, 0, 12)12 - AIC:10461.389010169434\n",
      "ARIMA(2, 0, 0)x(2, 1, 1, 12)12 - AIC:10422.314085692586\n",
      "ARIMA(2, 0, 0)x(2, 1, 2, 12)12 - AIC:10423.309608857446\n",
      "ARIMA(2, 0, 0)x(2, 2, 0, 12)12 - AIC:10337.961579107006\n",
      "ARIMA(2, 0, 0)x(2, 2, 1, 12)12 - AIC:10272.23829949851\n",
      "ARIMA(2, 0, 0)x(2, 2, 2, 12)12 - AIC:10264.22387134963\n",
      "ARIMA(2, 0, 1)x(0, 0, 0, 12)12 - AIC:11475.60431212269\n",
      "ARIMA(2, 0, 1)x(0, 0, 1, 12)12 - AIC:11107.66501280807\n",
      "ARIMA(2, 0, 1)x(0, 0, 2, 12)12 - AIC:10727.061911498593\n",
      "ARIMA(2, 0, 1)x(0, 1, 0, 12)12 - AIC:11323.43358092025\n",
      "ARIMA(2, 0, 1)x(0, 1, 1, 12)12 - AIC:10781.090140147204\n",
      "ARIMA(2, 0, 1)x(0, 1, 2, 12)12 - AIC:10405.208712976288\n",
      "ARIMA(2, 0, 1)x(0, 2, 0, 12)12 - AIC:11447.716428947278\n"
     ]
    },
    {
     "name": "stderr",
     "output_type": "stream",
     "text": [
      "C:\\Users\\waqarkhan\\Anaconda3\\lib\\site-packages\\statsmodels\\base\\model.py:512: ConvergenceWarning:\n",
      "\n",
      "Maximum Likelihood optimization failed to converge. Check mle_retvals\n",
      "\n"
     ]
    },
    {
     "name": "stdout",
     "output_type": "stream",
     "text": [
      "ARIMA(2, 0, 1)x(0, 2, 1, 12)12 - AIC:12890.099883317733\n",
      "ARIMA(2, 0, 1)x(0, 2, 2, 12)12 - AIC:13961.316168711164\n",
      "ARIMA(2, 0, 1)x(1, 0, 0, 12)12 - AIC:11107.631174547387\n",
      "ARIMA(2, 0, 1)x(1, 0, 1, 12)12 - AIC:11097.411860040484\n",
      "ARIMA(2, 0, 1)x(1, 0, 2, 12)12 - AIC:10719.252170104308\n",
      "ARIMA(2, 0, 1)x(1, 1, 0, 12)12 - AIC:10873.229383320722\n",
      "ARIMA(2, 0, 1)x(1, 1, 1, 12)12 - AIC:10782.926503764895\n",
      "ARIMA(2, 0, 1)x(1, 1, 2, 12)12 - AIC:10406.630057172966\n",
      "ARIMA(2, 0, 1)x(1, 2, 0, 12)12 - AIC:10914.310165417564\n"
     ]
    },
    {
     "name": "stderr",
     "output_type": "stream",
     "text": [
      "C:\\Users\\waqarkhan\\Anaconda3\\lib\\site-packages\\statsmodels\\base\\model.py:512: ConvergenceWarning:\n",
      "\n",
      "Maximum Likelihood optimization failed to converge. Check mle_retvals\n",
      "\n"
     ]
    },
    {
     "name": "stdout",
     "output_type": "stream",
     "text": [
      "ARIMA(2, 0, 1)x(1, 2, 1, 12)12 - AIC:13139.998452908065\n",
      "ARIMA(2, 0, 1)x(1, 2, 2, 12)12 - AIC:14322.018118954387\n",
      "ARIMA(2, 0, 1)x(2, 0, 0, 12)12 - AIC:10727.414350022\n",
      "ARIMA(2, 0, 1)x(2, 0, 1, 12)12 - AIC:10719.146259887431\n"
     ]
    },
    {
     "name": "stderr",
     "output_type": "stream",
     "text": [
      "C:\\Users\\waqarkhan\\Anaconda3\\lib\\site-packages\\statsmodels\\base\\model.py:512: ConvergenceWarning:\n",
      "\n",
      "Maximum Likelihood optimization failed to converge. Check mle_retvals\n",
      "\n"
     ]
    },
    {
     "name": "stdout",
     "output_type": "stream",
     "text": [
      "ARIMA(2, 0, 1)x(2, 0, 2, 12)12 - AIC:10725.02106653562\n",
      "ARIMA(2, 0, 1)x(2, 1, 0, 12)12 - AIC:10463.821943558985\n",
      "ARIMA(2, 0, 1)x(2, 1, 1, 12)12 - AIC:10406.521109163192\n"
     ]
    },
    {
     "name": "stderr",
     "output_type": "stream",
     "text": [
      "C:\\Users\\waqarkhan\\Anaconda3\\lib\\site-packages\\statsmodels\\base\\model.py:512: ConvergenceWarning:\n",
      "\n",
      "Maximum Likelihood optimization failed to converge. Check mle_retvals\n",
      "\n"
     ]
    },
    {
     "name": "stdout",
     "output_type": "stream",
     "text": [
      "ARIMA(2, 0, 1)x(2, 1, 2, 12)12 - AIC:10408.452901385728\n"
     ]
    },
    {
     "name": "stderr",
     "output_type": "stream",
     "text": [
      "C:\\Users\\waqarkhan\\Anaconda3\\lib\\site-packages\\statsmodels\\base\\model.py:512: ConvergenceWarning:\n",
      "\n",
      "Maximum Likelihood optimization failed to converge. Check mle_retvals\n",
      "\n"
     ]
    },
    {
     "name": "stdout",
     "output_type": "stream",
     "text": [
      "ARIMA(2, 0, 1)x(2, 2, 0, 12)12 - AIC:10607.257449498851\n"
     ]
    },
    {
     "name": "stderr",
     "output_type": "stream",
     "text": [
      "C:\\Users\\waqarkhan\\Anaconda3\\lib\\site-packages\\statsmodels\\base\\model.py:512: ConvergenceWarning:\n",
      "\n",
      "Maximum Likelihood optimization failed to converge. Check mle_retvals\n",
      "\n"
     ]
    },
    {
     "name": "stdout",
     "output_type": "stream",
     "text": [
      "ARIMA(2, 0, 1)x(2, 2, 1, 12)12 - AIC:13966.541768914722\n",
      "ARIMA(2, 0, 1)x(2, 2, 2, 12)12 - AIC:17087.32246216589\n",
      "ARIMA(2, 0, 2)x(0, 0, 0, 12)12 - AIC:11448.94252796557\n",
      "ARIMA(2, 0, 2)x(0, 0, 1, 12)12 - AIC:11081.407836537735\n",
      "ARIMA(2, 0, 2)x(0, 0, 2, 12)12 - AIC:10690.109657636713\n",
      "ARIMA(2, 0, 2)x(0, 1, 0, 12)12 - AIC:11261.170335532872\n",
      "ARIMA(2, 0, 2)x(0, 1, 1, 12)12 - AIC:10938.62432199371\n",
      "ARIMA(2, 0, 2)x(0, 1, 2, 12)12 - AIC:10392.117260627805\n",
      "ARIMA(2, 0, 2)x(0, 2, 0, 12)12 - AIC:11277.020828527886\n",
      "ARIMA(2, 0, 2)x(0, 2, 1, 12)12 - AIC:10655.430528098743\n"
     ]
    },
    {
     "name": "stderr",
     "output_type": "stream",
     "text": [
      "C:\\Users\\waqarkhan\\Anaconda3\\lib\\site-packages\\statsmodels\\base\\model.py:512: ConvergenceWarning:\n",
      "\n",
      "Maximum Likelihood optimization failed to converge. Check mle_retvals\n",
      "\n"
     ]
    },
    {
     "name": "stdout",
     "output_type": "stream",
     "text": [
      "ARIMA(2, 0, 2)x(0, 2, 2, 12)12 - AIC:10228.040560788242\n",
      "ARIMA(2, 0, 2)x(1, 0, 0, 12)12 - AIC:11112.100161882783\n"
     ]
    },
    {
     "name": "stderr",
     "output_type": "stream",
     "text": [
      "C:\\Users\\waqarkhan\\Anaconda3\\lib\\site-packages\\statsmodels\\base\\model.py:512: ConvergenceWarning:\n",
      "\n",
      "Maximum Likelihood optimization failed to converge. Check mle_retvals\n",
      "\n"
     ]
    },
    {
     "name": "stdout",
     "output_type": "stream",
     "text": [
      "ARIMA(2, 0, 2)x(1, 0, 1, 12)12 - AIC:11066.486050494916\n"
     ]
    },
    {
     "name": "stderr",
     "output_type": "stream",
     "text": [
      "C:\\Users\\waqarkhan\\Anaconda3\\lib\\site-packages\\statsmodels\\base\\model.py:512: ConvergenceWarning:\n",
      "\n",
      "Maximum Likelihood optimization failed to converge. Check mle_retvals\n",
      "\n"
     ]
    },
    {
     "name": "stdout",
     "output_type": "stream",
     "text": [
      "ARIMA(2, 0, 2)x(1, 0, 2, 12)12 - AIC:10688.8632223483\n",
      "ARIMA(2, 0, 2)x(1, 1, 0, 12)12 - AIC:11008.768967658041\n"
     ]
    },
    {
     "name": "stderr",
     "output_type": "stream",
     "text": [
      "C:\\Users\\waqarkhan\\Anaconda3\\lib\\site-packages\\statsmodels\\base\\model.py:512: ConvergenceWarning:\n",
      "\n",
      "Maximum Likelihood optimization failed to converge. Check mle_retvals\n",
      "\n"
     ]
    },
    {
     "name": "stdout",
     "output_type": "stream",
     "text": [
      "ARIMA(2, 0, 2)x(1, 1, 1, 12)12 - AIC:10750.68497692277\n"
     ]
    },
    {
     "name": "stderr",
     "output_type": "stream",
     "text": [
      "C:\\Users\\waqarkhan\\Anaconda3\\lib\\site-packages\\statsmodels\\base\\model.py:512: ConvergenceWarning:\n",
      "\n",
      "Maximum Likelihood optimization failed to converge. Check mle_retvals\n",
      "\n"
     ]
    },
    {
     "name": "stdout",
     "output_type": "stream",
     "text": [
      "ARIMA(2, 0, 2)x(1, 1, 2, 12)12 - AIC:10378.116909656375\n",
      "ARIMA(2, 0, 2)x(1, 2, 0, 12)12 - AIC:10764.924564998495\n",
      "ARIMA(2, 0, 2)x(1, 2, 1, 12)12 - AIC:10639.941641094025\n",
      "ARIMA(2, 0, 2)x(1, 2, 2, 12)12 - AIC:10231.35363199081\n"
     ]
    },
    {
     "name": "stderr",
     "output_type": "stream",
     "text": [
      "C:\\Users\\waqarkhan\\Anaconda3\\lib\\site-packages\\statsmodels\\base\\model.py:512: ConvergenceWarning:\n",
      "\n",
      "Maximum Likelihood optimization failed to converge. Check mle_retvals\n",
      "\n"
     ]
    },
    {
     "name": "stdout",
     "output_type": "stream",
     "text": [
      "ARIMA(2, 0, 2)x(2, 0, 0, 12)12 - AIC:10726.64466544988\n"
     ]
    },
    {
     "name": "stderr",
     "output_type": "stream",
     "text": [
      "C:\\Users\\waqarkhan\\Anaconda3\\lib\\site-packages\\statsmodels\\base\\model.py:512: ConvergenceWarning:\n",
      "\n",
      "Maximum Likelihood optimization failed to converge. Check mle_retvals\n",
      "\n"
     ]
    },
    {
     "name": "stdout",
     "output_type": "stream",
     "text": [
      "ARIMA(2, 0, 2)x(2, 0, 1, 12)12 - AIC:10730.045917695188\n"
     ]
    },
    {
     "name": "stderr",
     "output_type": "stream",
     "text": [
      "C:\\Users\\waqarkhan\\Anaconda3\\lib\\site-packages\\statsmodels\\base\\model.py:512: ConvergenceWarning:\n",
      "\n",
      "Maximum Likelihood optimization failed to converge. Check mle_retvals\n",
      "\n"
     ]
    },
    {
     "name": "stdout",
     "output_type": "stream",
     "text": [
      "ARIMA(2, 0, 2)x(2, 0, 2, 12)12 - AIC:10698.520382812567\n",
      "ARIMA(2, 0, 2)x(2, 1, 0, 12)12 - AIC:10544.202916501708\n"
     ]
    },
    {
     "name": "stderr",
     "output_type": "stream",
     "text": [
      "C:\\Users\\waqarkhan\\Anaconda3\\lib\\site-packages\\statsmodels\\base\\model.py:512: ConvergenceWarning:\n",
      "\n",
      "Maximum Likelihood optimization failed to converge. Check mle_retvals\n",
      "\n"
     ]
    },
    {
     "name": "stdout",
     "output_type": "stream",
     "text": [
      "ARIMA(2, 0, 2)x(2, 1, 1, 12)12 - AIC:10527.613178198926\n",
      "ARIMA(2, 0, 2)x(2, 1, 2, 12)12 - AIC:10393.888560754505\n",
      "ARIMA(2, 0, 2)x(2, 2, 0, 12)12 - AIC:10325.35381529416\n",
      "ARIMA(2, 0, 2)x(2, 2, 1, 12)12 - AIC:10269.86449636783\n"
     ]
    },
    {
     "name": "stderr",
     "output_type": "stream",
     "text": [
      "C:\\Users\\waqarkhan\\Anaconda3\\lib\\site-packages\\statsmodels\\base\\model.py:512: ConvergenceWarning:\n",
      "\n",
      "Maximum Likelihood optimization failed to converge. Check mle_retvals\n",
      "\n"
     ]
    },
    {
     "name": "stdout",
     "output_type": "stream",
     "text": [
      "ARIMA(2, 0, 2)x(2, 2, 2, 12)12 - AIC:10232.295268465736\n",
      "ARIMA(2, 1, 0)x(0, 0, 0, 12)12 - AIC:11533.018069501722\n",
      "ARIMA(2, 1, 0)x(0, 0, 1, 12)12 - AIC:11193.979240045848\n",
      "ARIMA(2, 1, 0)x(0, 0, 2, 12)12 - AIC:10809.304584672716\n",
      "ARIMA(2, 1, 0)x(0, 1, 0, 12)12 - AIC:11383.32674796184\n",
      "ARIMA(2, 1, 0)x(0, 1, 1, 12)12 - AIC:10867.780166337285\n",
      "ARIMA(2, 1, 0)x(0, 1, 2, 12)12 - AIC:10488.760038821016\n",
      "ARIMA(2, 1, 0)x(0, 2, 0, 12)12 - AIC:11351.033968550939\n",
      "ARIMA(2, 1, 0)x(0, 2, 1, 12)12 - AIC:10765.705867392862\n",
      "ARIMA(2, 1, 0)x(0, 2, 2, 12)12 - AIC:10333.806163045716\n",
      "ARIMA(2, 1, 0)x(1, 0, 0, 12)12 - AIC:11163.314738365209\n",
      "ARIMA(2, 1, 0)x(1, 0, 1, 12)12 - AIC:11160.749794531625\n",
      "ARIMA(2, 1, 0)x(1, 0, 2, 12)12 - AIC:10811.261723317559\n",
      "ARIMA(2, 1, 0)x(1, 1, 0, 12)12 - AIC:10936.65071820371\n",
      "ARIMA(2, 1, 0)x(1, 1, 1, 12)12 - AIC:10837.278878355464\n",
      "ARIMA(2, 1, 0)x(1, 1, 2, 12)12 - AIC:10488.441708183478\n",
      "ARIMA(2, 1, 0)x(1, 2, 0, 12)12 - AIC:10834.468971522754\n",
      "ARIMA(2, 1, 0)x(1, 2, 1, 12)12 - AIC:10716.823649917147\n",
      "ARIMA(2, 1, 0)x(1, 2, 2, 12)12 - AIC:10335.720834102358\n",
      "ARIMA(2, 1, 0)x(2, 0, 0, 12)12 - AIC:10777.756913672925\n",
      "ARIMA(2, 1, 0)x(2, 0, 1, 12)12 - AIC:10779.756850158756\n",
      "ARIMA(2, 1, 0)x(2, 0, 2, 12)12 - AIC:10779.688800707698\n",
      "ARIMA(2, 1, 0)x(2, 1, 0, 12)12 - AIC:10519.683338773631\n",
      "ARIMA(2, 1, 0)x(2, 1, 1, 12)12 - AIC:10457.995475132127\n",
      "ARIMA(2, 1, 0)x(2, 1, 2, 12)12 - AIC:10458.911991183155\n",
      "ARIMA(2, 1, 0)x(2, 2, 0, 12)12 - AIC:10388.228408920997\n",
      "ARIMA(2, 1, 0)x(2, 2, 1, 12)12 - AIC:10314.472550811402\n",
      "ARIMA(2, 1, 0)x(2, 2, 2, 12)12 - AIC:10304.134202711419\n",
      "ARIMA(2, 1, 1)x(0, 0, 0, 12)12 - AIC:11445.675331461915\n",
      "ARIMA(2, 1, 1)x(0, 0, 1, 12)12 - AIC:11077.549872647762\n",
      "ARIMA(2, 1, 1)x(0, 0, 2, 12)12 - AIC:10696.834850967054\n",
      "ARIMA(2, 1, 1)x(0, 1, 0, 12)12 - AIC:11303.630259820413\n",
      "ARIMA(2, 1, 1)x(0, 1, 1, 12)12 - AIC:10786.322511104674\n",
      "ARIMA(2, 1, 1)x(0, 1, 2, 12)12 - AIC:10409.048492874557\n",
      "ARIMA(2, 1, 1)x(0, 2, 0, 12)12 - AIC:11280.221665986504\n",
      "ARIMA(2, 1, 1)x(0, 2, 1, 12)12 - AIC:10700.013266236823\n",
      "ARIMA(2, 1, 1)x(0, 2, 2, 12)12 - AIC:10271.404886489254\n",
      "ARIMA(2, 1, 1)x(1, 0, 0, 12)12 - AIC:11077.540516664609\n",
      "ARIMA(2, 1, 1)x(1, 0, 1, 12)12 - AIC:11075.497199193062\n",
      "ARIMA(2, 1, 1)x(1, 0, 2, 12)12 - AIC:10696.420404006782\n",
      "ARIMA(2, 1, 1)x(1, 1, 0, 12)12 - AIC:10861.901201059896\n",
      "ARIMA(2, 1, 1)x(1, 1, 1, 12)12 - AIC:10788.30033634501\n",
      "ARIMA(2, 1, 1)x(1, 1, 2, 12)12 - AIC:10408.415955271914\n",
      "ARIMA(2, 1, 1)x(1, 2, 0, 12)12 - AIC:10773.057464360252\n",
      "ARIMA(2, 1, 1)x(1, 2, 1, 12)12 - AIC:10682.399576374028\n"
     ]
    },
    {
     "name": "stderr",
     "output_type": "stream",
     "text": [
      "C:\\Users\\waqarkhan\\Anaconda3\\lib\\site-packages\\statsmodels\\base\\model.py:512: ConvergenceWarning:\n",
      "\n",
      "Maximum Likelihood optimization failed to converge. Check mle_retvals\n",
      "\n"
     ]
    },
    {
     "name": "stdout",
     "output_type": "stream",
     "text": [
      "ARIMA(2, 1, 1)x(1, 2, 2, 12)12 - AIC:10273.379963776397\n",
      "ARIMA(2, 1, 1)x(2, 0, 0, 12)12 - AIC:10697.114761013781\n",
      "ARIMA(2, 1, 1)x(2, 0, 1, 12)12 - AIC:10696.303252122489\n",
      "ARIMA(2, 1, 1)x(2, 0, 2, 12)12 - AIC:10697.970881090645\n",
      "ARIMA(2, 1, 1)x(2, 1, 0, 12)12 - AIC:10454.090130816827\n"
     ]
    },
    {
     "name": "stderr",
     "output_type": "stream",
     "text": [
      "C:\\Users\\waqarkhan\\Anaconda3\\lib\\site-packages\\statsmodels\\base\\model.py:512: ConvergenceWarning:\n",
      "\n",
      "Maximum Likelihood optimization failed to converge. Check mle_retvals\n",
      "\n"
     ]
    },
    {
     "name": "stdout",
     "output_type": "stream",
     "text": [
      "ARIMA(2, 1, 1)x(2, 1, 1, 12)12 - AIC:10417.258719543246\n",
      "ARIMA(2, 1, 1)x(2, 1, 2, 12)12 - AIC:10410.21562633157\n",
      "ARIMA(2, 1, 1)x(2, 2, 0, 12)12 - AIC:10334.302697413841\n",
      "ARIMA(2, 1, 1)x(2, 2, 1, 12)12 - AIC:10282.92871077003\n",
      "ARIMA(2, 1, 1)x(2, 2, 2, 12)12 - AIC:10274.797875978442\n",
      "ARIMA(2, 1, 2)x(0, 0, 0, 12)12 - AIC:11587.629394836\n",
      "ARIMA(2, 1, 2)x(0, 0, 1, 12)12 - AIC:11219.047128124806\n",
      "ARIMA(2, 1, 2)x(0, 0, 2, 12)12 - AIC:10757.269169046733\n",
      "ARIMA(2, 1, 2)x(0, 1, 0, 12)12 - AIC:11437.874290612017\n",
      "ARIMA(2, 1, 2)x(0, 1, 1, 12)12 - AIC:10909.68938054934\n",
      "ARIMA(2, 1, 2)x(0, 1, 2, 12)12 - AIC:10474.085749710128\n",
      "ARIMA(2, 1, 2)x(0, 2, 0, 12)12 - AIC:11355.324773864544\n",
      "ARIMA(2, 1, 2)x(0, 2, 1, 12)12 - AIC:10802.933060178886\n",
      "ARIMA(2, 1, 2)x(0, 2, 2, 12)12 - AIC:10342.083868879043\n",
      "ARIMA(2, 1, 2)x(1, 0, 0, 12)12 - AIC:11251.193029314083\n",
      "ARIMA(2, 1, 2)x(1, 0, 1, 12)12 - AIC:11220.192610818482\n",
      "ARIMA(2, 1, 2)x(1, 0, 2, 12)12 - AIC:10758.736447730484\n",
      "ARIMA(2, 1, 2)x(1, 1, 0, 12)12 - AIC:10991.45002047375\n",
      "ARIMA(2, 1, 2)x(1, 1, 1, 12)12 - AIC:10911.68911994579\n",
      "ARIMA(2, 1, 2)x(1, 1, 2, 12)12 - AIC:10475.004773824277\n",
      "ARIMA(2, 1, 2)x(1, 2, 0, 12)12 - AIC:10765.353872713336\n",
      "ARIMA(2, 1, 2)x(1, 2, 1, 12)12 - AIC:10793.199782135964\n"
     ]
    },
    {
     "name": "stderr",
     "output_type": "stream",
     "text": [
      "C:\\Users\\waqarkhan\\Anaconda3\\lib\\site-packages\\statsmodels\\base\\model.py:512: ConvergenceWarning:\n",
      "\n",
      "Maximum Likelihood optimization failed to converge. Check mle_retvals\n",
      "\n"
     ]
    },
    {
     "name": "stdout",
     "output_type": "stream",
     "text": [
      "ARIMA(2, 1, 2)x(1, 2, 2, 12)12 - AIC:10225.608250178691\n",
      "ARIMA(2, 1, 2)x(2, 0, 0, 12)12 - AIC:10801.063784737664\n",
      "ARIMA(2, 1, 2)x(2, 0, 1, 12)12 - AIC:10802.221291874657\n",
      "ARIMA(2, 1, 2)x(2, 0, 2, 12)12 - AIC:10760.256425134015\n",
      "ARIMA(2, 1, 2)x(2, 1, 0, 12)12 - AIC:10439.975300104026\n",
      "ARIMA(2, 1, 2)x(2, 1, 1, 12)12 - AIC:10389.057973098095\n"
     ]
    },
    {
     "name": "stderr",
     "output_type": "stream",
     "text": [
      "C:\\Users\\waqarkhan\\Anaconda3\\lib\\site-packages\\statsmodels\\base\\model.py:512: ConvergenceWarning:\n",
      "\n",
      "Maximum Likelihood optimization failed to converge. Check mle_retvals\n",
      "\n"
     ]
    },
    {
     "name": "stdout",
     "output_type": "stream",
     "text": [
      "ARIMA(2, 1, 2)x(2, 1, 2, 12)12 - AIC:10370.420285422106\n",
      "ARIMA(2, 1, 2)x(2, 2, 0, 12)12 - AIC:10420.828544586599\n",
      "ARIMA(2, 1, 2)x(2, 2, 1, 12)12 - AIC:10268.804426727818\n",
      "ARIMA(2, 1, 2)x(2, 2, 2, 12)12 - AIC:10227.108017683118\n",
      "ARIMA(2, 2, 0)x(0, 0, 0, 12)12 - AIC:11712.974477628046\n",
      "ARIMA(2, 2, 0)x(0, 0, 1, 12)12 - AIC:11368.346423248333\n",
      "ARIMA(2, 2, 0)x(0, 0, 2, 12)12 - AIC:10976.987476483806\n",
      "ARIMA(2, 2, 0)x(0, 1, 0, 12)12 - AIC:11567.827340953958\n",
      "ARIMA(2, 2, 0)x(0, 1, 1, 12)12 - AIC:11039.252079427792\n",
      "ARIMA(2, 2, 0)x(0, 1, 2, 12)12 - AIC:10653.863159599154\n",
      "ARIMA(2, 2, 0)x(0, 2, 0, 12)12 - AIC:11533.700485802126\n",
      "ARIMA(2, 2, 0)x(0, 2, 1, 12)12 - AIC:10938.948538595414\n",
      "ARIMA(2, 2, 0)x(0, 2, 2, 12)12 - AIC:10496.702066002732\n",
      "ARIMA(2, 2, 0)x(1, 0, 0, 12)12 - AIC:11336.923024638902\n",
      "ARIMA(2, 2, 0)x(1, 0, 1, 12)12 - AIC:11333.902951636559\n",
      "ARIMA(2, 2, 0)x(1, 0, 2, 12)12 - AIC:10978.991778833992\n",
      "ARIMA(2, 2, 0)x(1, 1, 0, 12)12 - AIC:11104.833028174071\n",
      "ARIMA(2, 2, 0)x(1, 1, 1, 12)12 - AIC:11008.556236563954\n",
      "ARIMA(2, 2, 0)x(1, 1, 2, 12)12 - AIC:10653.311894914927\n",
      "ARIMA(2, 2, 0)x(1, 2, 0, 12)12 - AIC:11001.140219679965\n",
      "ARIMA(2, 2, 0)x(1, 2, 1, 12)12 - AIC:10887.30104610977\n",
      "ARIMA(2, 2, 0)x(1, 2, 2, 12)12 - AIC:10498.701167633877\n",
      "ARIMA(2, 2, 0)x(2, 0, 0, 12)12 - AIC:10944.711400505623\n",
      "ARIMA(2, 2, 0)x(2, 0, 1, 12)12 - AIC:10946.724947614965\n",
      "ARIMA(2, 2, 0)x(2, 0, 2, 12)12 - AIC:10944.563142284653\n",
      "ARIMA(2, 2, 0)x(2, 1, 0, 12)12 - AIC:10682.197768881622\n",
      "ARIMA(2, 2, 0)x(2, 1, 1, 12)12 - AIC:10622.60785292773\n",
      "ARIMA(2, 2, 0)x(2, 1, 2, 12)12 - AIC:10622.527707139867\n",
      "ARIMA(2, 2, 0)x(2, 2, 0, 12)12 - AIC:10548.126101539941\n",
      "ARIMA(2, 2, 0)x(2, 2, 1, 12)12 - AIC:10477.725208186133\n",
      "ARIMA(2, 2, 0)x(2, 2, 2, 12)12 - AIC:10466.677861450484\n",
      "ARIMA(2, 2, 1)x(0, 0, 0, 12)12 - AIC:11535.886643387552\n",
      "ARIMA(2, 2, 1)x(0, 0, 1, 12)12 - AIC:11161.140725311705\n",
      "ARIMA(2, 2, 1)x(0, 0, 2, 12)12 - AIC:10776.283725823594\n",
      "ARIMA(2, 2, 1)x(0, 1, 0, 12)12 - AIC:11377.934962347166\n",
      "ARIMA(2, 2, 1)x(0, 1, 1, 12)12 - AIC:10888.988414080617\n",
      "ARIMA(2, 2, 1)x(0, 1, 2, 12)12 - AIC:10506.137435103781\n",
      "ARIMA(2, 2, 1)x(0, 2, 0, 12)12 - AIC:11339.757126775621\n",
      "ARIMA(2, 2, 1)x(0, 2, 1, 12)12 - AIC:10795.878735767501\n",
      "ARIMA(2, 2, 1)x(0, 2, 2, 12)12 - AIC:10371.069612990914\n",
      "ARIMA(2, 2, 1)x(1, 0, 0, 12)12 - AIC:11161.325376259989\n",
      "ARIMA(2, 2, 1)x(1, 0, 1, 12)12 - AIC:11160.074239590704\n",
      "ARIMA(2, 2, 1)x(1, 0, 2, 12)12 - AIC:10776.987554383715\n",
      "ARIMA(2, 2, 1)x(1, 1, 0, 12)12 - AIC:10949.287561254363\n",
      "ARIMA(2, 2, 1)x(1, 1, 1, 12)12 - AIC:10890.602186049891\n",
      "ARIMA(2, 2, 1)x(1, 1, 2, 12)12 - AIC:10505.580721062395\n",
      "ARIMA(2, 2, 1)x(1, 2, 0, 12)12 - AIC:10857.738520426454\n",
      "ARIMA(2, 2, 1)x(1, 2, 1, 12)12 - AIC:10784.097288224231\n",
      "ARIMA(2, 2, 1)x(1, 2, 2, 12)12 - AIC:10372.932528209603\n",
      "ARIMA(2, 2, 1)x(2, 0, 0, 12)12 - AIC:10776.298795217966\n",
      "ARIMA(2, 2, 1)x(2, 0, 1, 12)12 - AIC:10778.189791340903\n",
      "ARIMA(2, 2, 1)x(2, 0, 2, 12)12 - AIC:10778.999485503602\n",
      "ARIMA(2, 2, 1)x(2, 1, 0, 12)12 - AIC:10540.99317554542\n",
      "ARIMA(2, 2, 1)x(2, 1, 1, 12)12 - AIC:10507.255116391789\n",
      "ARIMA(2, 2, 1)x(2, 1, 2, 12)12 - AIC:10507.571171946285\n",
      "ARIMA(2, 2, 1)x(2, 2, 0, 12)12 - AIC:10423.978276256239\n",
      "ARIMA(2, 2, 1)x(2, 2, 1, 12)12 - AIC:10380.576763586694\n",
      "ARIMA(2, 2, 1)x(2, 2, 2, 12)12 - AIC:10374.284751389037\n",
      "ARIMA(2, 2, 2)x(0, 0, 0, 12)12 - AIC:11591.348284563495\n",
      "ARIMA(2, 2, 2)x(0, 0, 1, 12)12 - AIC:11218.91095466794\n",
      "ARIMA(2, 2, 2)x(0, 0, 2, 12)12 - AIC:10819.817691633734\n",
      "ARIMA(2, 2, 2)x(0, 1, 0, 12)12 - AIC:11343.355864349027\n",
      "ARIMA(2, 2, 2)x(0, 1, 1, 12)12 - AIC:10837.570298657114\n",
      "ARIMA(2, 2, 2)x(0, 1, 2, 12)12 - AIC:10455.772594980663\n",
      "ARIMA(2, 2, 2)x(0, 2, 0, 12)12 - AIC:11265.082289010435\n",
      "ARIMA(2, 2, 2)x(0, 2, 1, 12)12 - AIC:10759.340474724333\n",
      "ARIMA(2, 2, 2)x(0, 2, 2, 12)12 - AIC:10328.906531473112\n",
      "ARIMA(2, 2, 2)x(1, 0, 0, 12)12 - AIC:11251.373993929217\n"
     ]
    },
    {
     "name": "stderr",
     "output_type": "stream",
     "text": [
      "C:\\Users\\waqarkhan\\Anaconda3\\lib\\site-packages\\statsmodels\\base\\model.py:512: ConvergenceWarning:\n",
      "\n",
      "Maximum Likelihood optimization failed to converge. Check mle_retvals\n",
      "\n"
     ]
    },
    {
     "name": "stdout",
     "output_type": "stream",
     "text": [
      "ARIMA(2, 2, 2)x(1, 0, 1, 12)12 - AIC:11218.081452721386\n",
      "ARIMA(2, 2, 2)x(1, 0, 2, 12)12 - AIC:10820.277518068617\n",
      "ARIMA(2, 2, 2)x(1, 1, 0, 12)12 - AIC:10936.983802001\n",
      "ARIMA(2, 2, 2)x(1, 1, 1, 12)12 - AIC:10839.379301475044\n",
      "ARIMA(2, 2, 2)x(1, 1, 2, 12)12 - AIC:10453.14103274565\n",
      "ARIMA(2, 2, 2)x(1, 2, 0, 12)12 - AIC:10820.695030588027\n"
     ]
    },
    {
     "name": "stderr",
     "output_type": "stream",
     "text": [
      "C:\\Users\\waqarkhan\\Anaconda3\\lib\\site-packages\\statsmodels\\base\\model.py:512: ConvergenceWarning:\n",
      "\n",
      "Maximum Likelihood optimization failed to converge. Check mle_retvals\n",
      "\n"
     ]
    },
    {
     "name": "stdout",
     "output_type": "stream",
     "text": [
      "ARIMA(2, 2, 2)x(1, 2, 1, 12)12 - AIC:10730.999016185664\n",
      "ARIMA(2, 2, 2)x(1, 2, 2, 12)12 - AIC:10330.874870282434\n",
      "ARIMA(2, 2, 2)x(2, 0, 0, 12)12 - AIC:10854.867056950547\n",
      "ARIMA(2, 2, 2)x(2, 0, 1, 12)12 - AIC:10855.300848948447\n",
      "ARIMA(2, 2, 2)x(2, 0, 2, 12)12 - AIC:10822.216540609254\n"
     ]
    },
    {
     "name": "stderr",
     "output_type": "stream",
     "text": [
      "C:\\Users\\waqarkhan\\Anaconda3\\lib\\site-packages\\statsmodels\\base\\model.py:512: ConvergenceWarning:\n",
      "\n",
      "Maximum Likelihood optimization failed to converge. Check mle_retvals\n",
      "\n"
     ]
    },
    {
     "name": "stdout",
     "output_type": "stream",
     "text": [
      "ARIMA(2, 2, 2)x(2, 1, 0, 12)12 - AIC:10487.607557854695\n",
      "ARIMA(2, 2, 2)x(2, 1, 1, 12)12 - AIC:10489.47597783824\n"
     ]
    },
    {
     "name": "stderr",
     "output_type": "stream",
     "text": [
      "C:\\Users\\waqarkhan\\Anaconda3\\lib\\site-packages\\statsmodels\\base\\model.py:512: ConvergenceWarning:\n",
      "\n",
      "Maximum Likelihood optimization failed to converge. Check mle_retvals\n",
      "\n"
     ]
    },
    {
     "name": "stdout",
     "output_type": "stream",
     "text": [
      "ARIMA(2, 2, 2)x(2, 1, 2, 12)12 - AIC:10455.07988486678\n"
     ]
    },
    {
     "name": "stderr",
     "output_type": "stream",
     "text": [
      "C:\\Users\\waqarkhan\\Anaconda3\\lib\\site-packages\\statsmodels\\base\\model.py:512: ConvergenceWarning:\n",
      "\n",
      "Maximum Likelihood optimization failed to converge. Check mle_retvals\n",
      "\n"
     ]
    },
    {
     "name": "stdout",
     "output_type": "stream",
     "text": [
      "ARIMA(2, 2, 2)x(2, 2, 0, 12)12 - AIC:10391.874724595407\n"
     ]
    },
    {
     "name": "stderr",
     "output_type": "stream",
     "text": [
      "C:\\Users\\waqarkhan\\Anaconda3\\lib\\site-packages\\statsmodels\\base\\model.py:512: ConvergenceWarning:\n",
      "\n",
      "Maximum Likelihood optimization failed to converge. Check mle_retvals\n",
      "\n"
     ]
    },
    {
     "name": "stdout",
     "output_type": "stream",
     "text": [
      "ARIMA(2, 2, 2)x(2, 2, 1, 12)12 - AIC:10361.653616724434\n"
     ]
    },
    {
     "name": "stderr",
     "output_type": "stream",
     "text": [
      "C:\\Users\\waqarkhan\\Anaconda3\\lib\\site-packages\\statsmodels\\base\\model.py:512: ConvergenceWarning:\n",
      "\n",
      "Maximum Likelihood optimization failed to converge. Check mle_retvals\n",
      "\n"
     ]
    },
    {
     "name": "stdout",
     "output_type": "stream",
     "text": [
      "ARIMA(2, 2, 2)x(2, 2, 2, 12)12 - AIC:10332.366993115258\n"
     ]
    }
   ],
   "source": [
    "for param in pdq:\n",
    "    for param_seasonal in seasonal_pdq:\n",
    "        try:\n",
    "            mod = sm.tsa.statespace.SARIMAX(ddf,\n",
    "                                            order=param,\n",
    "                                            seasonal_order=param_seasonal,\n",
    "                                            enforce_stationarity=False,\n",
    "                                            enforce_invertibility=False)\n",
    "   \n",
    "            results = mod.fit()\n",
    "            print('ARIMA{}x{}12 - AIC:{}'.format(param, param_seasonal, results.aic))\n",
    "        except:\n",
    "            continue"
   ]
  },
  {
   "cell_type": "code",
   "execution_count": 30,
   "metadata": {},
   "outputs": [
    {
     "name": "stdout",
     "output_type": "stream",
     "text": [
      "==============================================================================\n",
      "                 coef    std err          z      P>|z|      [0.025      0.975]\n",
      "------------------------------------------------------------------------------\n",
      "sigma2          1e-10         -0       -inf      0.000       1e-10       1e-10\n",
      "==============================================================================\n"
     ]
    }
   ],
   "source": [
    "mod = sm.tsa.statespace.SARIMAX(ddf,\n",
    "                                order=(0, 0, 0),\n",
    "                                seasonal_order=(0, 1, 0, 365),\n",
    "                                enforce_stationarity=False,\n",
    "                                enforce_invertibility=False)\n",
    "results = mod.fit()\n",
    "print(results.summary().tables[1])"
   ]
  },
  {
   "cell_type": "code",
   "execution_count": 32,
   "metadata": {
    "scrolled": true
   },
   "outputs": [
    {
     "ename": "IndexError",
     "evalue": "index 0 is out of bounds for axis 0 with size 0",
     "output_type": "error",
     "traceback": [
      "\u001b[1;31m---------------------------------------------------------------------------\u001b[0m",
      "\u001b[1;31mIndexError\u001b[0m                                Traceback (most recent call last)",
      "\u001b[1;32m<ipython-input-32-02a3cf01db3a>\u001b[0m in \u001b[0;36m<module>\u001b[1;34m\u001b[0m\n\u001b[1;32m----> 1\u001b[1;33m \u001b[0mresults\u001b[0m\u001b[1;33m.\u001b[0m\u001b[0mplot_diagnostics\u001b[0m\u001b[1;33m(\u001b[0m\u001b[0mfigsize\u001b[0m\u001b[1;33m=\u001b[0m\u001b[1;33m(\u001b[0m\u001b[1;36m16\u001b[0m\u001b[1;33m,\u001b[0m \u001b[1;36m8\u001b[0m\u001b[1;33m)\u001b[0m\u001b[1;33m)\u001b[0m\u001b[1;33m\u001b[0m\u001b[1;33m\u001b[0m\u001b[0m\n\u001b[0m\u001b[0;32m      2\u001b[0m \u001b[0mplt\u001b[0m\u001b[1;33m.\u001b[0m\u001b[0mshow\u001b[0m\u001b[1;33m(\u001b[0m\u001b[1;33m)\u001b[0m\u001b[1;33m\u001b[0m\u001b[1;33m\u001b[0m\u001b[0m\n\u001b[0;32m      3\u001b[0m \u001b[1;31m#KDE (In statistics, kernel density estimation is a non-parametric way\u001b[0m\u001b[1;33m\u001b[0m\u001b[1;33m\u001b[0m\u001b[1;33m\u001b[0m\u001b[0m\n\u001b[0;32m      4\u001b[0m \u001b[1;31m#to estimate the probability density function of a random variable.\u001b[0m\u001b[1;33m\u001b[0m\u001b[1;33m\u001b[0m\u001b[1;33m\u001b[0m\u001b[0m\n\u001b[0;32m      5\u001b[0m \u001b[1;31m#Kernel density estimation is a fundamental data smoothing problem\u001b[0m\u001b[1;33m\u001b[0m\u001b[1;33m\u001b[0m\u001b[1;33m\u001b[0m\u001b[0m\n",
      "\u001b[1;32m~\\Anaconda3\\lib\\site-packages\\statsmodels\\tsa\\statespace\\mlemodel.py\u001b[0m in \u001b[0;36mplot_diagnostics\u001b[1;34m(self, variable, lags, fig, figsize)\u001b[0m\n\u001b[0;32m   2628\u001b[0m             \u001b[0mx\u001b[0m \u001b[1;33m=\u001b[0m \u001b[0mnp\u001b[0m\u001b[1;33m.\u001b[0m\u001b[0marange\u001b[0m\u001b[1;33m(\u001b[0m\u001b[0mlen\u001b[0m\u001b[1;33m(\u001b[0m\u001b[0mresid\u001b[0m\u001b[1;33m)\u001b[0m\u001b[1;33m)\u001b[0m\u001b[1;33m\u001b[0m\u001b[1;33m\u001b[0m\u001b[0m\n\u001b[0;32m   2629\u001b[0m         \u001b[0max\u001b[0m\u001b[1;33m.\u001b[0m\u001b[0mplot\u001b[0m\u001b[1;33m(\u001b[0m\u001b[0mx\u001b[0m\u001b[1;33m,\u001b[0m \u001b[0mresid\u001b[0m\u001b[1;33m)\u001b[0m\u001b[1;33m\u001b[0m\u001b[1;33m\u001b[0m\u001b[0m\n\u001b[1;32m-> 2630\u001b[1;33m         \u001b[0max\u001b[0m\u001b[1;33m.\u001b[0m\u001b[0mhlines\u001b[0m\u001b[1;33m(\u001b[0m\u001b[1;36m0\u001b[0m\u001b[1;33m,\u001b[0m \u001b[0mx\u001b[0m\u001b[1;33m[\u001b[0m\u001b[1;36m0\u001b[0m\u001b[1;33m]\u001b[0m\u001b[1;33m,\u001b[0m \u001b[0mx\u001b[0m\u001b[1;33m[\u001b[0m\u001b[1;33m-\u001b[0m\u001b[1;36m1\u001b[0m\u001b[1;33m]\u001b[0m\u001b[1;33m,\u001b[0m \u001b[0malpha\u001b[0m\u001b[1;33m=\u001b[0m\u001b[1;36m0.5\u001b[0m\u001b[1;33m)\u001b[0m\u001b[1;33m\u001b[0m\u001b[1;33m\u001b[0m\u001b[0m\n\u001b[0m\u001b[0;32m   2631\u001b[0m         \u001b[0max\u001b[0m\u001b[1;33m.\u001b[0m\u001b[0mset_xlim\u001b[0m\u001b[1;33m(\u001b[0m\u001b[0mx\u001b[0m\u001b[1;33m[\u001b[0m\u001b[1;36m0\u001b[0m\u001b[1;33m]\u001b[0m\u001b[1;33m,\u001b[0m \u001b[0mx\u001b[0m\u001b[1;33m[\u001b[0m\u001b[1;33m-\u001b[0m\u001b[1;36m1\u001b[0m\u001b[1;33m]\u001b[0m\u001b[1;33m)\u001b[0m\u001b[1;33m\u001b[0m\u001b[1;33m\u001b[0m\u001b[0m\n\u001b[0;32m   2632\u001b[0m         \u001b[0max\u001b[0m\u001b[1;33m.\u001b[0m\u001b[0mset_title\u001b[0m\u001b[1;33m(\u001b[0m\u001b[1;34m'Standardized residual'\u001b[0m\u001b[1;33m)\u001b[0m\u001b[1;33m\u001b[0m\u001b[1;33m\u001b[0m\u001b[0m\n",
      "\u001b[1;31mIndexError\u001b[0m: index 0 is out of bounds for axis 0 with size 0"
     ]
    },
    {
     "data": {
      "image/png": "[encoded data removed]",
      "text/plain": [
       "<Figure size 1152x576 with 1 Axes>"
      ]
     },
     "metadata": {
      "needs_background": "light"
     },
     "output_type": "display_data"
    }
   ],
   "source": [
    "results.plot_diagnostics(figsize=(16, 8))\n",
    "plt.show()\n",
    "#KDE (In statistics, kernel density estimation is a non-parametric way \n",
    "#to estimate the probability density function of a random variable. \n",
    "#Kernel density estimation is a fundamental data smoothing problem \n",
    "#where inferences about the population are made, based on a finite data sample)"
   ]
  },
  {
   "cell_type": "markdown",
   "metadata": {},
   "source": [
    "Residual:Relationship between a given independent variable and the response variable given that other independent variables are also in the model."
   ]
  },
  {
   "cell_type": "code",
   "execution_count": 33,
   "metadata": {},
   "outputs": [
    {
     "data": {
      "image/png": "[encoded data removed]",
      "text/plain": [
       "<Figure size 1008x504 with 1 Axes>"
      ]
     },
     "metadata": {
      "needs_background": "light"
     },
     "output_type": "display_data"
    }
   ],
   "source": [
    "pred = results.get_prediction(start=pd.to_datetime('2019-10-01'), dynamic=False)\n",
    "pred_ci = pred.conf_int()\n",
    "ax = ddf['2019':].plot(label='Actual')\n",
    "pred.predicted_mean.plot(ax=ax, label='Predicted', alpha=.7, figsize=(14, 7),ylim=(0,11000000))\n",
    "ax.fill_between(pred_ci.index,\n",
    "                 pred_ci.iloc[:, 0],\n",
    "                 pred_ci.iloc[:, 1], color='k', alpha=.2)\n",
    "ax.set_xlabel('Month')\n",
    "ax.set_ylabel('Sales')\n",
    "plt.legend()\n",
    "plt.show()\n",
    "\n",
    "# plot_data = [\n",
    "#     go.Scatter(\n",
    "#         x=pred_ci['date'],\n",
    "#         y=pred_ci['sales'],\n",
    "#         name='actual'\n",
    "#     ),\n",
    "#         go.Scatter(\n",
    "#         x=pred_ci['date'],\n",
    "#         y=pred_ci['pred_value'],\n",
    "#         name='predicted'\n",
    "#     )\n",
    "    \n",
    "# ]\n",
    "\n",
    "# plot_layout = go.Layout(\n",
    "#         title='Sales Prediction'\n",
    "#     )\n",
    "# fig = go.Figure(data=plot_data, layout=plot_layout)\n",
    "# pyoff.iplot(fig)"
   ]
  },
  {
   "cell_type": "code",
   "execution_count": 34,
   "metadata": {},
   "outputs": [
    {
     "name": "stdout",
     "output_type": "stream",
     "text": [
      "The Mean Squared Error of our forecasts is 2019-10-01 00:00:00   NaN\n",
      "2019-10-02 00:00:00   NaN\n",
      "2019-10-03 00:00:00   NaN\n",
      "2019-10-04 00:00:00   NaN\n",
      "2019-10-05 00:00:00   NaN\n",
      "                       ..\n",
      "2019-12-28 00:00:00   NaN\n",
      "2019-12-29 00:00:00   NaN\n",
      "2019-12-30 00:00:00   NaN\n",
      "2019-12-31 00:00:00   NaN\n",
      "sales                 NaN\n",
      "Length: 93, dtype: float64\n"
     ]
    }
   ],
   "source": [
    "y_forecasted = pred.predicted_mean\n",
    "y_truth = ddf['2019-11-03':]\n",
    "mse = ((y_forecasted - y_truth) ** 2).mean()\n",
    "print('The Mean Squared Error of our forecasts is {}'.format(round(mse, 2)))"
   ]
  },
  {
   "cell_type": "markdown",
   "metadata": {},
   "source": [
    "y_forecasted = pred.predicted_mean\n",
    "y_truth = y['2019-11-01':]\n",
    "mse = ((y_forecasted - y_truth) ** 2).mean()\n",
    "print('The Mean Squared Error of our forecasts is {}'.format(round(mse, 2)))"
   ]
  },
  {
   "cell_type": "code",
   "execution_count": 35,
   "metadata": {},
   "outputs": [
    {
     "name": "stdout",
     "output_type": "stream",
     "text": [
      "The Root Mean Squared Error of our forecasts is 2019-10-01 00:00:00   NaN\n",
      "2019-10-02 00:00:00   NaN\n",
      "2019-10-03 00:00:00   NaN\n",
      "2019-10-04 00:00:00   NaN\n",
      "2019-10-05 00:00:00   NaN\n",
      "                       ..\n",
      "2019-12-28 00:00:00   NaN\n",
      "2019-12-29 00:00:00   NaN\n",
      "2019-12-30 00:00:00   NaN\n",
      "2019-12-31 00:00:00   NaN\n",
      "sales                 NaN\n",
      "Length: 93, dtype: float64\n"
     ]
    }
   ],
   "source": [
    "print('The Root Mean Squared Error of our forecasts is {}'.format(round(np.sqrt(mse), 2)))"
   ]
  },
  {
   "cell_type": "code",
   "execution_count": 36,
   "metadata": {},
   "outputs": [
    {
     "data": {
      "image/png": "[encoded data removed]",
      "text/plain": [
       "<Figure size 1008x504 with 1 Axes>"
      ]
     },
     "metadata": {
      "needs_background": "light"
     },
     "output_type": "display_data"
    }
   ],
   "source": [
    "pred_uc = results.get_forecast(steps=20)\n",
    "pred_ci = pred_uc.conf_int()\n",
    "ax = ddf.plot(label='observed', figsize=(14, 7),ylim=(0,11000000))\n",
    "pred_uc.predicted_mean.plot(ax=ax, label='Forecast')\n",
    "ax.fill_between(pred_ci.index,\n",
    "                pred_ci.iloc[:, 0],\n",
    "                pred_ci.iloc[:, 1], color='k', alpha=.25)\n",
    "ax.set_xlabel('Date')\n",
    "ax.set_ylabel('Sales')\n",
    "\n",
    "plt.legend()\n",
    "plt.show()"
   ]
  },
  {
   "cell_type": "code",
   "execution_count": null,
   "metadata": {},
   "outputs": [],
   "source": []
  },
  {
   "cell_type": "code",
   "execution_count": null,
   "metadata": {},
   "outputs": [],
   "source": []
  }
 ],
 "metadata": {
  "kernelspec": {
   "display_name": "Python 3",
   "language": "python",
   "name": "python3"
  },
  "language_info": {
   "codemirror_mode": {
    "name": "ipython",
    "version": 3
   },
   "file_extension": ".py",
   "mimetype": "text/x-python",
   "name": "python",
   "nbconvert_exporter": "python",
   "pygments_lexer": "ipython3",
   "version": "3.7.4"
  }
 },
 "nbformat": 4,
 "nbformat_minor": 2
}
